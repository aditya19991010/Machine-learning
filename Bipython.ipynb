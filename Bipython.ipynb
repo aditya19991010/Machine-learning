{
 "cells": [
  {
   "cell_type": "code",
   "execution_count": 1,
   "id": "d1e683cc",
   "metadata": {},
   "outputs": [],
   "source": [
    "quote = \"this is a string\""
   ]
  },
  {
   "cell_type": "code",
   "execution_count": 2,
   "id": "45aa5a55",
   "metadata": {},
   "outputs": [
    {
     "name": "stdout",
     "output_type": "stream",
     "text": [
      "this is a string\n"
     ]
    }
   ],
   "source": [
    "print(quote)"
   ]
  },
  {
   "cell_type": "code",
   "execution_count": 3,
   "id": "b0a44f8c",
   "metadata": {},
   "outputs": [],
   "source": [
    "prefix  = 'suck you to the infiniy'"
   ]
  },
  {
   "cell_type": "code",
   "execution_count": 4,
   "id": "1de0edc8",
   "metadata": {},
   "outputs": [
    {
     "data": {
      "text/plain": [
       "'suck you to the infiniyjohn suck you to the infiniyjohn suck you to the infiniyjohn '"
      ]
     },
     "execution_count": 4,
     "metadata": {},
     "output_type": "execute_result"
    }
   ],
   "source": [
    "3 * (prefix + 'john' + ' ')"
   ]
  },
  {
   "cell_type": "code",
   "execution_count": 5,
   "id": "fecf609b",
   "metadata": {},
   "outputs": [
    {
     "name": "stdout",
     "output_type": "stream",
     "text": [
      "sc o oteifn\n"
     ]
    }
   ],
   "source": [
    "print(prefix[:-1:2])"
   ]
  },
  {
   "cell_type": "code",
   "execution_count": 6,
   "id": "707cfa65",
   "metadata": {},
   "outputs": [
    {
     "data": {
      "text/plain": [
       "23"
      ]
     },
     "execution_count": 6,
     "metadata": {},
     "output_type": "execute_result"
    }
   ],
   "source": [
    "len(prefix)"
   ]
  },
  {
   "cell_type": "code",
   "execution_count": 7,
   "id": "8027203b",
   "metadata": {},
   "outputs": [],
   "source": [
    "a, b = 1, 2"
   ]
  },
  {
   "cell_type": "code",
   "execution_count": 8,
   "id": "19951066",
   "metadata": {},
   "outputs": [
    {
     "name": "stdout",
     "output_type": "stream",
     "text": [
      "1\n",
      "2\n",
      "3\n",
      "5\n",
      "8\n"
     ]
    }
   ],
   "source": [
    "while a < 10:\n",
    "    print(a)\n",
    "    a, b = b, a+b"
   ]
  },
  {
   "cell_type": "raw",
   "id": "147bf2a5",
   "metadata": {},
   "source": [
    "Lists"
   ]
  },
  {
   "cell_type": "code",
   "execution_count": 9,
   "id": "a0d0c22f",
   "metadata": {},
   "outputs": [],
   "source": [
    "mylist = [1,2,3,4,'one', 'two', 'three', 'four']"
   ]
  },
  {
   "cell_type": "code",
   "execution_count": 10,
   "id": "8d35ac60",
   "metadata": {},
   "outputs": [
    {
     "data": {
      "text/plain": [
       "'three'"
      ]
     },
     "execution_count": 10,
     "metadata": {},
     "output_type": "execute_result"
    }
   ],
   "source": [
    "mylist[6]\n",
    "#for indexing"
   ]
  },
  {
   "cell_type": "code",
   "execution_count": 11,
   "id": "ad40500d",
   "metadata": {},
   "outputs": [
    {
     "data": {
      "text/plain": [
       "[2, 3, 4, 'one']"
      ]
     },
     "execution_count": 11,
     "metadata": {},
     "output_type": "execute_result"
    }
   ],
   "source": [
    "#for slicing\n",
    "\n",
    "mylist[1:5]"
   ]
  },
  {
   "cell_type": "code",
   "execution_count": 12,
   "id": "165465d7",
   "metadata": {},
   "outputs": [],
   "source": [
    "mylist2 = [6,7,8] "
   ]
  },
  {
   "cell_type": "code",
   "execution_count": 13,
   "id": "345d4d94",
   "metadata": {},
   "outputs": [],
   "source": [
    "final_list = mylist + mylist2"
   ]
  },
  {
   "cell_type": "code",
   "execution_count": 14,
   "id": "b81a4431",
   "metadata": {},
   "outputs": [
    {
     "name": "stdout",
     "output_type": "stream",
     "text": [
      "[1, 2, 3, 4, 'one', 'two', 'three', 'four', 6, 7, 8]\n"
     ]
    }
   ],
   "source": [
    "print(final_list)"
   ]
  },
  {
   "cell_type": "code",
   "execution_count": 15,
   "id": "e42ab6a0",
   "metadata": {},
   "outputs": [
    {
     "name": "stdout",
     "output_type": "stream",
     "text": [
      "['mutate_1', 2, 3, 4, 'one', 'two', 'three', 'four', 6, 7, 8]\n"
     ]
    }
   ],
   "source": [
    "final_list[0] = 'mutate_1'\n",
    "\n",
    "#to mutate list\n",
    "\n",
    "print(final_list)"
   ]
  },
  {
   "cell_type": "code",
   "execution_count": 16,
   "id": "2809372a",
   "metadata": {},
   "outputs": [],
   "source": [
    "final_list.reverse()"
   ]
  },
  {
   "cell_type": "code",
   "execution_count": 17,
   "id": "e2ed92a3",
   "metadata": {},
   "outputs": [
    {
     "name": "stdout",
     "output_type": "stream",
     "text": [
      "[8, 7, 6, 'four', 'three', 'two', 'one', 4, 3, 2, 'mutate_1']\n"
     ]
    }
   ],
   "source": [
    "print(final_list)"
   ]
  },
  {
   "cell_type": "code",
   "execution_count": 18,
   "id": "52368175",
   "metadata": {},
   "outputs": [
    {
     "name": "stdout",
     "output_type": "stream",
     "text": [
      "[8, 7, 6, 'four', 'three', 'two', 'one', 4, 3, 2]\n"
     ]
    }
   ],
   "source": [
    "final_list.pop()\n",
    "\n",
    "#remove items from end of the list, if index position is not given in ()\n",
    "print(final_list)"
   ]
  },
  {
   "cell_type": "code",
   "execution_count": 19,
   "id": "87d3867b",
   "metadata": {},
   "outputs": [
    {
     "data": {
      "text/plain": [
       "list"
      ]
     },
     "execution_count": 19,
     "metadata": {},
     "output_type": "execute_result"
    }
   ],
   "source": [
    "type(final_list)\n",
    "#to show the type of value given"
   ]
  },
  {
   "cell_type": "code",
   "execution_count": 20,
   "id": "2a785780",
   "metadata": {},
   "outputs": [],
   "source": [
    "check_sort = [4,7,32,2,6,8,1]\n"
   ]
  },
  {
   "cell_type": "code",
   "execution_count": 21,
   "id": "ee89c8e1",
   "metadata": {},
   "outputs": [],
   "source": [
    "check_sort.sort()"
   ]
  },
  {
   "cell_type": "code",
   "execution_count": 22,
   "id": "c6f5714a",
   "metadata": {},
   "outputs": [],
   "source": [
    "sorted_list = check_sort.sort()"
   ]
  },
  {
   "cell_type": "code",
   "execution_count": 23,
   "id": "d58a8a42",
   "metadata": {},
   "outputs": [
    {
     "name": "stdout",
     "output_type": "stream",
     "text": [
      "None\n"
     ]
    }
   ],
   "source": [
    "print(sorted_list)"
   ]
  },
  {
   "cell_type": "code",
   "execution_count": null,
   "id": "1fb0a153",
   "metadata": {},
   "outputs": [],
   "source": []
  },
  {
   "cell_type": "code",
   "execution_count": 24,
   "id": "269300c0",
   "metadata": {},
   "outputs": [],
   "source": [
    "check_sort.sort()"
   ]
  },
  {
   "cell_type": "code",
   "execution_count": 25,
   "id": "195e6ea9",
   "metadata": {},
   "outputs": [
    {
     "name": "stdout",
     "output_type": "stream",
     "text": [
      "[1, 2, 4, 6, 7, 8, 32]\n"
     ]
    }
   ],
   "source": [
    "print(check_sort)"
   ]
  },
  {
   "cell_type": "raw",
   "id": "62d03da4",
   "metadata": {},
   "source": [
    "Dictionary"
   ]
  },
  {
   "cell_type": "code",
   "execution_count": 26,
   "id": "ebe95b2b",
   "metadata": {},
   "outputs": [],
   "source": [
    "my_dict = {'key1': 5, 'key2' : 100}"
   ]
  },
  {
   "cell_type": "code",
   "execution_count": 27,
   "id": "e9ec9330",
   "metadata": {},
   "outputs": [
    {
     "data": {
      "text/plain": [
       "{'key1': 5, 'key2': 100}"
      ]
     },
     "execution_count": 27,
     "metadata": {},
     "output_type": "execute_result"
    }
   ],
   "source": [
    "my_dict"
   ]
  },
  {
   "cell_type": "code",
   "execution_count": 28,
   "id": "c3ee1cc6",
   "metadata": {},
   "outputs": [
    {
     "data": {
      "text/plain": [
       "5"
      ]
     },
     "execution_count": 28,
     "metadata": {},
     "output_type": "execute_result"
    }
   ],
   "source": [
    "my_dict['key1']"
   ]
  },
  {
   "cell_type": "code",
   "execution_count": 29,
   "id": "4607999f",
   "metadata": {},
   "outputs": [
    {
     "data": {
      "text/plain": [
       "dict"
      ]
     },
     "execution_count": 29,
     "metadata": {},
     "output_type": "execute_result"
    }
   ],
   "source": [
    "type(my_dict)"
   ]
  },
  {
   "cell_type": "code",
   "execution_count": 30,
   "id": "ca2731f5",
   "metadata": {},
   "outputs": [
    {
     "data": {
      "text/plain": [
       "2"
      ]
     },
     "execution_count": 30,
     "metadata": {},
     "output_type": "execute_result"
    }
   ],
   "source": [
    "len(my_dict)"
   ]
  },
  {
   "cell_type": "code",
   "execution_count": 31,
   "id": "63500aea",
   "metadata": {},
   "outputs": [],
   "source": [
    "d1 = {'1': 321 , '2' : [323425,1,2,3,4,4,2,3,5,23]}"
   ]
  },
  {
   "cell_type": "code",
   "execution_count": 32,
   "id": "ad34d0d7",
   "metadata": {},
   "outputs": [
    {
     "data": {
      "text/plain": [
       "[323425, 1, 2, 3, 4, 4, 2, 3, 5, 23]"
      ]
     },
     "execution_count": 32,
     "metadata": {},
     "output_type": "execute_result"
    }
   ],
   "source": [
    "d1['2']"
   ]
  },
  {
   "cell_type": "code",
   "execution_count": 33,
   "id": "2a55f775",
   "metadata": {},
   "outputs": [
    {
     "data": {
      "text/plain": [
       "[323425, 1, 2, 3, 4, 4]"
      ]
     },
     "execution_count": 33,
     "metadata": {},
     "output_type": "execute_result"
    }
   ],
   "source": [
    "#the fist bracket select the key and 2nd bracket selects index/range\n",
    "\n",
    "d1['2'][0:6:1]"
   ]
  },
  {
   "cell_type": "code",
   "execution_count": 34,
   "id": "73ebc23b",
   "metadata": {},
   "outputs": [],
   "source": [
    "my_dict2 = d1['2']"
   ]
  },
  {
   "cell_type": "code",
   "execution_count": 35,
   "id": "9a8d9649",
   "metadata": {},
   "outputs": [],
   "source": [
    "my_dict2.sort()"
   ]
  },
  {
   "cell_type": "code",
   "execution_count": 36,
   "id": "ac044c26",
   "metadata": {},
   "outputs": [],
   "source": [
    "my_dict2.append(d1['1'])"
   ]
  },
  {
   "cell_type": "code",
   "execution_count": 37,
   "id": "c3b416b5",
   "metadata": {},
   "outputs": [
    {
     "name": "stdout",
     "output_type": "stream",
     "text": [
      "[1, 2, 2, 3, 3, 4, 4, 5, 23, 323425, 321]\n"
     ]
    }
   ],
   "source": [
    "print(my_dict2)"
   ]
  },
  {
   "cell_type": "code",
   "execution_count": 38,
   "id": "20e8a218",
   "metadata": {},
   "outputs": [],
   "source": [
    "#for changing or assigning new keys in the dictionaries\n",
    "\n",
    "d1['3'] = 2314,245,124,78"
   ]
  },
  {
   "cell_type": "code",
   "execution_count": 39,
   "id": "359d2e85",
   "metadata": {},
   "outputs": [
    {
     "data": {
      "text/plain": [
       "{'1': 321,\n",
       " '2': [1, 2, 2, 3, 3, 4, 4, 5, 23, 323425, 321],\n",
       " '3': (2314, 245, 124, 78)}"
      ]
     },
     "execution_count": 39,
     "metadata": {},
     "output_type": "execute_result"
    }
   ],
   "source": [
    "d1"
   ]
  },
  {
   "cell_type": "code",
   "execution_count": 40,
   "id": "0f8d9315",
   "metadata": {},
   "outputs": [
    {
     "data": {
      "text/plain": [
       "dict_values([321, [1, 2, 2, 3, 3, 4, 4, 5, 23, 323425, 321], (2314, 245, 124, 78)])"
      ]
     },
     "execution_count": 40,
     "metadata": {},
     "output_type": "execute_result"
    }
   ],
   "source": [
    "d1.values()"
   ]
  },
  {
   "cell_type": "raw",
   "id": "057c013e",
   "metadata": {},
   "source": [
    "Tuple"
   ]
  },
  {
   "cell_type": "code",
   "execution_count": 41,
   "id": "1977c2f9",
   "metadata": {},
   "outputs": [],
   "source": [
    "tuple_1 = (1,2,3)"
   ]
  },
  {
   "cell_type": "code",
   "execution_count": 42,
   "id": "049f5b02",
   "metadata": {},
   "outputs": [
    {
     "data": {
      "text/plain": [
       "(1, 2, 3)"
      ]
     },
     "execution_count": 42,
     "metadata": {},
     "output_type": "execute_result"
    }
   ],
   "source": [
    "tuple_1"
   ]
  },
  {
   "cell_type": "code",
   "execution_count": 43,
   "id": "613a8a61",
   "metadata": {},
   "outputs": [
    {
     "data": {
      "text/plain": [
       "tuple"
      ]
     },
     "execution_count": 43,
     "metadata": {},
     "output_type": "execute_result"
    }
   ],
   "source": [
    "type(tuple_1)"
   ]
  },
  {
   "cell_type": "code",
   "execution_count": 44,
   "id": "2136aecc",
   "metadata": {},
   "outputs": [
    {
     "data": {
      "text/plain": [
       "1"
      ]
     },
     "execution_count": 44,
     "metadata": {},
     "output_type": "execute_result"
    }
   ],
   "source": [
    "tuple_1.index(2)"
   ]
  },
  {
   "cell_type": "raw",
   "id": "fec50f91",
   "metadata": {},
   "source": [
    "sets"
   ]
  },
  {
   "cell_type": "code",
   "execution_count": 45,
   "id": "17bd3c2d",
   "metadata": {},
   "outputs": [],
   "source": [
    "set1 = set()"
   ]
  },
  {
   "cell_type": "code",
   "execution_count": 46,
   "id": "5540302e",
   "metadata": {},
   "outputs": [],
   "source": [
    "set1.add('one')"
   ]
  },
  {
   "cell_type": "code",
   "execution_count": 47,
   "id": "fa0eea08",
   "metadata": {},
   "outputs": [
    {
     "data": {
      "text/plain": [
       "{'one'}"
      ]
     },
     "execution_count": 47,
     "metadata": {},
     "output_type": "execute_result"
    }
   ],
   "source": [
    "set1"
   ]
  },
  {
   "cell_type": "code",
   "execution_count": 48,
   "id": "6021c275",
   "metadata": {},
   "outputs": [],
   "source": [
    "set1.add('two')"
   ]
  },
  {
   "cell_type": "code",
   "execution_count": 49,
   "id": "4bfb6c3b",
   "metadata": {},
   "outputs": [
    {
     "data": {
      "text/plain": [
       "{'one', 'two'}"
      ]
     },
     "execution_count": 49,
     "metadata": {},
     "output_type": "execute_result"
    }
   ],
   "source": [
    "set1"
   ]
  },
  {
   "cell_type": "code",
   "execution_count": 50,
   "id": "63eae200",
   "metadata": {},
   "outputs": [],
   "source": [
    "check_set_list = [1,1,1,2,2,3,3,4,5,6,7,7]"
   ]
  },
  {
   "cell_type": "code",
   "execution_count": 51,
   "id": "0527b174",
   "metadata": {},
   "outputs": [
    {
     "data": {
      "text/plain": [
       "{1, 2, 3, 4, 5, 6, 7}"
      ]
     },
     "execution_count": 51,
     "metadata": {},
     "output_type": "execute_result"
    }
   ],
   "source": [
    "#collection of unique elements\n",
    "set(check_set_list)"
   ]
  },
  {
   "cell_type": "raw",
   "id": "61fd9b63",
   "metadata": {},
   "source": [
    "I/O "
   ]
  },
  {
   "cell_type": "code",
   "execution_count": 52,
   "id": "0e0b7633",
   "metadata": {},
   "outputs": [
    {
     "name": "stdout",
     "output_type": "stream",
     "text": [
      "Overwriting myfile.txt\n"
     ]
    }
   ],
   "source": [
    "%%writefile myfile.txt\n",
    "this is the 1st line\n",
    "this is the 2nd line \n",
    "we are testing files "
   ]
  },
  {
   "cell_type": "code",
   "execution_count": 53,
   "id": "0c2004e9",
   "metadata": {},
   "outputs": [],
   "source": [
    "myfile = open('myfile.txt')\n"
   ]
  },
  {
   "cell_type": "code",
   "execution_count": 54,
   "id": "3f7de347",
   "metadata": {},
   "outputs": [
    {
     "data": {
      "text/plain": [
       "'this is the 1st line\\nthis is the 2nd line \\nwe are testing files \\n'"
      ]
     },
     "execution_count": 54,
     "metadata": {},
     "output_type": "execute_result"
    }
   ],
   "source": [
    "myfile.read()"
   ]
  },
  {
   "cell_type": "code",
   "execution_count": 55,
   "id": "dbd473c9",
   "metadata": {},
   "outputs": [],
   "source": [
    "content = myfile.read()"
   ]
  },
  {
   "cell_type": "code",
   "execution_count": 56,
   "id": "e39f5988",
   "metadata": {},
   "outputs": [
    {
     "data": {
      "text/plain": [
       "''"
      ]
     },
     "execution_count": 56,
     "metadata": {},
     "output_type": "execute_result"
    }
   ],
   "source": [
    "content"
   ]
  },
  {
   "cell_type": "code",
   "execution_count": 57,
   "id": "290b4ef9",
   "metadata": {},
   "outputs": [
    {
     "data": {
      "text/plain": [
       "0"
      ]
     },
     "execution_count": 57,
     "metadata": {},
     "output_type": "execute_result"
    }
   ],
   "source": [
    "myfile.seek(0)"
   ]
  },
  {
   "cell_type": "code",
   "execution_count": 58,
   "id": "1100fe75",
   "metadata": {},
   "outputs": [
    {
     "data": {
      "text/plain": [
       "['this is the 1st line\\n',\n",
       " 'this is the 2nd line \\n',\n",
       " 'we are testing files \\n']"
      ]
     },
     "execution_count": 58,
     "metadata": {},
     "output_type": "execute_result"
    }
   ],
   "source": [
    "myfile.readlines()"
   ]
  },
  {
   "cell_type": "code",
   "execution_count": null,
   "id": "3a8713ad",
   "metadata": {},
   "outputs": [],
   "source": []
  },
  {
   "cell_type": "code",
   "execution_count": 59,
   "id": "82051af7",
   "metadata": {},
   "outputs": [
    {
     "data": {
      "text/plain": [
       "<_io.TextIOWrapper name='/home/lgi/100_lessthan_FPKM' mode='r' encoding='UTF-8'>"
      ]
     },
     "execution_count": 59,
     "metadata": {},
     "output_type": "execute_result"
    }
   ],
   "source": [
    "open('/home/lgi/100_lessthan_FPKM')"
   ]
  },
  {
   "cell_type": "code",
   "execution_count": 60,
   "id": "99cf52a2",
   "metadata": {},
   "outputs": [
    {
     "name": "stdout",
     "output_type": "stream",
     "text": [
      "/home/lgi\n"
     ]
    }
   ],
   "source": [
    "cd /home/lgi/"
   ]
  },
  {
   "cell_type": "code",
   "execution_count": 61,
   "id": "6a0a63a4",
   "metadata": {},
   "outputs": [],
   "source": [
    "checking_file = open('100_lessthan_FPKM')"
   ]
  },
  {
   "cell_type": "code",
   "execution_count": 62,
   "id": "317c5ac6",
   "metadata": {},
   "outputs": [
    {
     "data": {
      "text/plain": [
       "True"
      ]
     },
     "execution_count": 62,
     "metadata": {},
     "output_type": "execute_result"
    }
   ],
   "source": [
    "checking_file.readable()\n"
   ]
  },
  {
   "cell_type": "code",
   "execution_count": 63,
   "id": "68fc96a2",
   "metadata": {},
   "outputs": [
    {
     "data": {
      "text/plain": [
       "'\\nadded new line using mode\\nadded new line using mode\\nadded new line using mode\\nadded new line using mode\\nadded new line using mode'"
      ]
     },
     "execution_count": 63,
     "metadata": {},
     "output_type": "execute_result"
    }
   ],
   "source": [
    "checking_file.read()"
   ]
  },
  {
   "cell_type": "code",
   "execution_count": 64,
   "id": "0accf31a",
   "metadata": {},
   "outputs": [],
   "source": [
    "with open('100_lessthan_FPKM') as avoid_error_file :\n",
    "    av_error = avoid_error_file.read()"
   ]
  },
  {
   "cell_type": "code",
   "execution_count": 65,
   "id": "25e38029",
   "metadata": {},
   "outputs": [
    {
     "data": {
      "text/plain": [
       "'\\nadded new line using mode\\nadded new line using mode\\nadded new line using mode\\nadded new line using mode\\nadded new line using mode'"
      ]
     },
     "execution_count": 65,
     "metadata": {},
     "output_type": "execute_result"
    }
   ],
   "source": [
    "av_error"
   ]
  },
  {
   "cell_type": "code",
   "execution_count": 66,
   "id": "2905fab5",
   "metadata": {},
   "outputs": [],
   "source": [
    "with open('100_lessthan_FPKM', mode= 'w+') as avoid_error_file :\n",
    "    av_error = avoid_error_file.read()"
   ]
  },
  {
   "cell_type": "code",
   "execution_count": 67,
   "id": "a0c8c83e",
   "metadata": {},
   "outputs": [],
   "source": [
    "#to add new line\n",
    "with open('100_lessthan_FPKM', mode='a') as append_newl :\n",
    "    with_new_line = append_newl.write('\\nadded new line using mode')"
   ]
  },
  {
   "cell_type": "code",
   "execution_count": 68,
   "id": "9b493437",
   "metadata": {},
   "outputs": [
    {
     "data": {
      "text/plain": [
       "26"
      ]
     },
     "execution_count": 68,
     "metadata": {},
     "output_type": "execute_result"
    }
   ],
   "source": [
    "with_new_line"
   ]
  },
  {
   "cell_type": "code",
   "execution_count": 69,
   "id": "1e4dc72d",
   "metadata": {},
   "outputs": [
    {
     "name": "stdout",
     "output_type": "stream",
     "text": [
      "\n",
      "added new line using mode\n"
     ]
    }
   ],
   "source": [
    "with open('100_lessthan_FPKM') as to_Read :\n",
    "    print(to_Read.read())"
   ]
  },
  {
   "cell_type": "code",
   "execution_count": 70,
   "id": "088a4cbb",
   "metadata": {},
   "outputs": [
    {
     "name": "stdout",
     "output_type": "stream",
     "text": [
      "\n"
     ]
    }
   ],
   "source": [
    "with open('make_newfile_using_w.txt', mode='w+') as new:\n",
    "    new.write('new file created')\n",
    "    print(new.read())"
   ]
  },
  {
   "cell_type": "code",
   "execution_count": 71,
   "id": "0aee5235",
   "metadata": {},
   "outputs": [],
   "source": [
    "with open('make_newfile_using_w.txt', mode='a') as append_1:\n",
    "    append_1 = append_1.write('\\nnew line added')"
   ]
  },
  {
   "cell_type": "code",
   "execution_count": 72,
   "id": "cb178aa9",
   "metadata": {},
   "outputs": [
    {
     "name": "stdout",
     "output_type": "stream",
     "text": [
      "new file created\n",
      "new line added\n"
     ]
    }
   ],
   "source": [
    "with open('make_newfile_using_w.txt', mode='r') as read_2:\n",
    "    print(read_2.read())\n"
   ]
  },
  {
   "cell_type": "raw",
   "id": "20a7c733",
   "metadata": {},
   "source": [
    "operators"
   ]
  },
  {
   "cell_type": "code",
   "execution_count": 73,
   "id": "a89ed5b1",
   "metadata": {},
   "outputs": [
    {
     "data": {
      "text/plain": [
       "True"
      ]
     },
     "execution_count": 73,
     "metadata": {},
     "output_type": "execute_result"
    }
   ],
   "source": [
    "3 != 5 "
   ]
  },
  {
   "cell_type": "code",
   "execution_count": 74,
   "id": "6a048784",
   "metadata": {},
   "outputs": [
    {
     "data": {
      "text/plain": [
       "False"
      ]
     },
     "execution_count": 74,
     "metadata": {},
     "output_type": "execute_result"
    }
   ],
   "source": [
    "(4 +6 >= 9+2 ) and ('f' == 'f')"
   ]
  },
  {
   "cell_type": "code",
   "execution_count": 75,
   "id": "27fb75ee",
   "metadata": {},
   "outputs": [
    {
     "data": {
      "text/plain": [
       "True"
      ]
     },
     "execution_count": 75,
     "metadata": {},
     "output_type": "execute_result"
    }
   ],
   "source": [
    "(4 +6 >= 9+2 ) or ('f' == 'f')"
   ]
  },
  {
   "cell_type": "code",
   "execution_count": 76,
   "id": "505bba76",
   "metadata": {},
   "outputs": [
    {
     "data": {
      "text/plain": [
       "True"
      ]
     },
     "execution_count": 76,
     "metadata": {},
     "output_type": "execute_result"
    }
   ],
   "source": [
    "not (4 +6 >= 9+2 )"
   ]
  },
  {
   "cell_type": "code",
   "execution_count": 77,
   "id": "8a686b37",
   "metadata": {},
   "outputs": [
    {
     "name": "stdout",
     "output_type": "stream",
     "text": [
      "10 is greater than 2\n"
     ]
    }
   ],
   "source": [
    "\n",
    "if 10 > 2 :\n",
    "    print('10 is greater than 2')"
   ]
  },
  {
   "cell_type": "code",
   "execution_count": 78,
   "id": "176a547c",
   "metadata": {},
   "outputs": [
    {
     "name": "stdout",
     "output_type": "stream",
     "text": [
      "pass if statement\n"
     ]
    }
   ],
   "source": [
    "\n",
    "if 10 > 2 :\n",
    "    print('pass if statement')\n",
    "elif 2 < 10:\n",
    "    print('pass elif statment')\n",
    "else :\n",
    "    print('pass else statment')"
   ]
  },
  {
   "cell_type": "code",
   "execution_count": 79,
   "id": "4efc3699",
   "metadata": {},
   "outputs": [
    {
     "name": "stdout",
     "output_type": "stream",
     "text": [
      "pass elif statment\n"
     ]
    }
   ],
   "source": [
    "\n",
    "if 10 > 20 :\n",
    "    print('pass if statement')\n",
    "elif 2 < 10:\n",
    "    print('pass elif statment')\n",
    "else :\n",
    "    print('pass else statment')"
   ]
  },
  {
   "cell_type": "code",
   "execution_count": 80,
   "id": "d8a21e44",
   "metadata": {},
   "outputs": [
    {
     "name": "stdout",
     "output_type": "stream",
     "text": [
      "pass else statment\n"
     ]
    }
   ],
   "source": [
    "\n",
    "if 10 > 20 :\n",
    "    print('pass if statement')\n",
    "elif 2 > 10:\n",
    "    print('pass elif statment')\n",
    "else :\n",
    "    print('pass else statment')"
   ]
  },
  {
   "cell_type": "code",
   "execution_count": 81,
   "id": "0ea8030d",
   "metadata": {},
   "outputs": [],
   "source": [
    "location = ['bank', 'bar', 'zoo']"
   ]
  },
  {
   "cell_type": "code",
   "execution_count": 82,
   "id": "e50dd9ec",
   "metadata": {},
   "outputs": [
    {
     "name": "stdout",
     "output_type": "stream",
     "text": [
      "location is bank\n"
     ]
    }
   ],
   "source": [
    "if location[0] == 'bank' :\n",
    "    print('location is bank')\n",
    "else:\n",
    "    print('location unknown')"
   ]
  },
  {
   "cell_type": "raw",
   "id": "b65ae4ac",
   "metadata": {},
   "source": [
    "For loop"
   ]
  },
  {
   "cell_type": "code",
   "execution_count": 83,
   "id": "72628da1",
   "metadata": {},
   "outputs": [
    {
     "ename": "NameError",
     "evalue": "name 'my_iterable' is not defined",
     "output_type": "error",
     "traceback": [
      "\u001b[0;31m---------------------------------------------------------------------------\u001b[0m",
      "\u001b[0;31mNameError\u001b[0m                                 Traceback (most recent call last)",
      "Cell \u001b[0;32mIn[83], line 1\u001b[0m\n\u001b[0;32m----> 1\u001b[0m \u001b[43mmy_iterable\u001b[49m\u001b[38;5;241m.\u001b[39mcount(\u001b[38;5;241m4\u001b[39m)\n",
      "\u001b[0;31mNameError\u001b[0m: name 'my_iterable' is not defined"
     ]
    }
   ],
   "source": [
    " my_iterable.count(4)"
   ]
  },
  {
   "cell_type": "code",
   "execution_count": 84,
   "id": "9d14fde8",
   "metadata": {},
   "outputs": [
    {
     "name": "stdout",
     "output_type": "stream",
     "text": [
      "23\n",
      "4\n",
      "45\n",
      "2\n",
      "457\n",
      "4\n",
      "4\n",
      "4\n",
      "4\n",
      "4\n",
      "234\n",
      "235\n",
      "14\n",
      "35\n"
     ]
    }
   ],
   "source": [
    "my_iterable = [23,4,45,2,457,4,4,4,4,4,234,235,14,35]\n",
    "for i in my_iterable :\n",
    "    if my_iterable.count(4) > 4:\n",
    "        print(i)"
   ]
  },
  {
   "cell_type": "code",
   "execution_count": 85,
   "id": "80d7625e",
   "metadata": {},
   "outputs": [
    {
     "name": "stdout",
     "output_type": "stream",
     "text": [
      "this is not equal to zero 23\n",
      "this is equal zero 4\n",
      "this is not equal to zero 45\n",
      "this is equal zero 2\n",
      "this is not equal to zero 457\n",
      "this is equal zero 4\n",
      "this is equal zero 4\n",
      "this is equal zero 4\n",
      "this is equal zero 4\n",
      "this is equal zero 4\n",
      "this is equal zero 234\n",
      "this is not equal to zero 235\n",
      "this is equal zero 14\n",
      "this is not equal to zero 35\n"
     ]
    }
   ],
   "source": [
    "for i in my_iterable:\n",
    "    if i% 2 != 0:\n",
    "        print(f'this is not equal to zero {i}')\n",
    "    elif i % 2 == 0 :\n",
    "        print(f'this is equal zero {i}')\n",
    "\n",
    "#f' is called f-string"
   ]
  },
  {
   "cell_type": "code",
   "execution_count": 86,
   "id": "1d9e9bff",
   "metadata": {},
   "outputs": [
    {
     "name": "stdout",
     "output_type": "stream",
     "text": [
      "this is not equal to zero 23\n",
      "can be change to 24 or 22\n",
      "this is equal zero 4\n",
      "this is not equal to zero 45\n",
      "can be change to 46 or 44\n",
      "this is equal zero 2\n",
      "this is not equal to zero 457\n",
      "can be change to 458 or 456\n",
      "this is equal zero 4\n",
      "this is equal zero 4\n",
      "this is equal zero 4\n",
      "this is equal zero 4\n",
      "this is equal zero 4\n",
      "this is equal zero 234\n",
      "this is not equal to zero 235\n",
      "can be change to 236 or 234\n",
      "this is equal zero 14\n",
      "this is not equal to zero 35\n",
      "can be change to 36 or 34\n"
     ]
    }
   ],
   "source": [
    "for i in my_iterable:\n",
    "    if i% 2 != 0:\n",
    "        make_even1 = i + 1 \n",
    "        make_even2 = i - 1\n",
    "        print(f'this is not equal to zero {i}')\n",
    "        print(f'can be change to {make_even1} or {make_even2}')\n",
    "    elif i % 2 == 0 :\n",
    "        print(f'this is equal zero {i}')\n",
    "        "
   ]
  },
  {
   "cell_type": "code",
   "execution_count": 93,
   "id": "ae11030a",
   "metadata": {},
   "outputs": [
    {
     "name": "stdout",
     "output_type": "stream",
     "text": [
      "True\n",
      "True\n",
      "True\n",
      "True\n",
      "True\n",
      "True\n",
      "True\n",
      "True\n",
      "True\n",
      "True\n",
      "True\n",
      "True\n",
      "True\n"
     ]
    }
   ],
   "source": [
    "name = 'Hi its Aditya'\n",
    "\n",
    "for i in name :\n",
    "    if name.count('i') >= 1:\n",
    "        print(True)\n",
    "        "
   ]
  },
  {
   "cell_type": "code",
   "execution_count": 94,
   "id": "86a0deec",
   "metadata": {},
   "outputs": [],
   "source": [
    "#tuple unpacking\n",
    "\n",
    "list_w_tuple = [(11,22),(33,44), (55,66)]"
   ]
  },
  {
   "cell_type": "code",
   "execution_count": 95,
   "id": "7779d504",
   "metadata": {},
   "outputs": [
    {
     "name": "stdout",
     "output_type": "stream",
     "text": [
      "11\n",
      "22\n",
      "33\n",
      "44\n",
      "55\n",
      "66\n"
     ]
    }
   ],
   "source": [
    "for a,b in list_w_tuple:\n",
    "    print(a)\n",
    "    print(b)"
   ]
  },
  {
   "cell_type": "markdown",
   "id": "402018de",
   "metadata": {},
   "source": [
    "## While loop"
   ]
  },
  {
   "cell_type": "code",
   "execution_count": 96,
   "id": "717b087a",
   "metadata": {},
   "outputs": [
    {
     "name": "stdout",
     "output_type": "stream",
     "text": [
      "The current value of x is 2\n",
      "The current value of x is 4\n",
      "The current value of x is 6\n",
      "The current value of x is 8\n",
      "The current value of x is 10\n",
      "The current value of x is 12\n",
      "The current value of x is 14\n",
      "The current value of x is 16\n",
      "The current value of x is 18\n",
      "The current value of x is 20\n",
      "The current value of x is 22\n",
      "The current value of x is 24\n"
     ]
    }
   ],
   "source": [
    "x = 2\n",
    "\n",
    "while x < 25:\n",
    "    print(f'The current value of x is {x}')\n",
    "    x = x+2"
   ]
  },
  {
   "cell_type": "markdown",
   "id": "fa26b1bf",
   "metadata": {},
   "source": [
    "### break, continue, pass"
   ]
  },
  {
   "cell_type": "code",
   "execution_count": 97,
   "id": "810bef67",
   "metadata": {},
   "outputs": [
    {
     "name": "stdout",
     "output_type": "stream",
     "text": [
      "[(11, 22), (33, 44), (55, 66)]\n"
     ]
    }
   ],
   "source": [
    "print(list_w_tuple)"
   ]
  },
  {
   "cell_type": "code",
   "execution_count": 101,
   "id": "298dcf04",
   "metadata": {},
   "outputs": [],
   "source": [
    "#with pass\n",
    "for a,b in list_w_tuple:\n",
    "    #print(a)\n",
    "    pass"
   ]
  },
  {
   "cell_type": "code",
   "execution_count": 102,
   "id": "16d5dffe",
   "metadata": {},
   "outputs": [
    {
     "ename": "SyntaxError",
     "evalue": "incomplete input (3120336296.py, line 4)",
     "output_type": "error",
     "traceback": [
      "\u001b[0;36m  Cell \u001b[0;32mIn[102], line 4\u001b[0;36m\u001b[0m\n\u001b[0;31m    #print(a)\u001b[0m\n\u001b[0m             ^\u001b[0m\n\u001b[0;31mSyntaxError\u001b[0m\u001b[0;31m:\u001b[0m incomplete input\n"
     ]
    }
   ],
   "source": [
    "#w/o pass\n",
    "\n",
    "for a,b in list_w_tuple:\n",
    "    #print(a)"
   ]
  },
  {
   "cell_type": "code",
   "execution_count": 106,
   "id": "ecb325c7",
   "metadata": {},
   "outputs": [
    {
     "name": "stdout",
     "output_type": "stream",
     "text": [
      "11\n",
      "55\n"
     ]
    }
   ],
   "source": [
    "for a,b in list_w_tuple:\n",
    "    if a == 33:\n",
    "        continue \n",
    "    print(a)\n",
    "    "
   ]
  },
  {
   "cell_type": "code",
   "execution_count": 107,
   "id": "d53fd55a",
   "metadata": {},
   "outputs": [
    {
     "name": "stdout",
     "output_type": "stream",
     "text": [
      "11\n"
     ]
    }
   ],
   "source": [
    "for a,b in list_w_tuple:\n",
    "    if a == 33:\n",
    "        break \n",
    "    print(a)\n",
    "    "
   ]
  },
  {
   "cell_type": "markdown",
   "id": "f394664d",
   "metadata": {},
   "source": [
    "## useful operators"
   ]
  },
  {
   "cell_type": "code",
   "execution_count": 116,
   "id": "3ebc9a3e",
   "metadata": {},
   "outputs": [
    {
     "name": "stdout",
     "output_type": "stream",
     "text": [
      "17 is divisible by 17\n",
      "34 is divisible by 17\n",
      "51 is divisible by 17\n",
      "68 is divisible by 17\n",
      "85 is divisible by 17\n",
      "100 not divisible by 17\n"
     ]
    }
   ],
   "source": [
    "for num in range(10,101):\n",
    "    if num % 17 == 0:\n",
    "        print(f'{num} is divisible by 17' )\n",
    "else:\n",
    "    print(f'{num} not divisible by 17')"
   ]
  },
  {
   "cell_type": "code",
   "execution_count": 137,
   "id": "b600a513",
   "metadata": {},
   "outputs": [],
   "source": [
    "list_by_range = list(range(1,50,2))"
   ]
  },
  {
   "cell_type": "code",
   "execution_count": 132,
   "id": "04ef987e",
   "metadata": {},
   "outputs": [],
   "source": [
    "list_by_range.reverse()"
   ]
  },
  {
   "cell_type": "code",
   "execution_count": 140,
   "id": "408e0130",
   "metadata": {},
   "outputs": [
    {
     "name": "stdout",
     "output_type": "stream",
     "text": [
      "number 10 assigned to the letter a\n",
      "number 9 assigned to the letter s\n",
      "number 8 assigned to the letter d\n",
      "number 7 assigned to the letter f\n",
      "number 6 assigned to the letter g\n",
      "number 5 assigned to the letter h\n",
      "number 4 assigned to the letter j\n",
      "number 3 assigned to the letter k\n",
      "number 2 assigned to the letter l\n"
     ]
    }
   ],
   "source": [
    "count = 10\n",
    "for i in 'asdfghjkl':\n",
    "    print('number {} assigned to the letter {}'.format(count,i))\n",
    "    count -= 1"
   ]
  },
  {
   "cell_type": "raw",
   "id": "3621dcac",
   "metadata": {},
   "source": [
    "enumerate function"
   ]
  },
  {
   "cell_type": "code",
   "execution_count": 142,
   "id": "db1a8cd7",
   "metadata": {},
   "outputs": [
    {
     "name": "stdout",
     "output_type": "stream",
     "text": [
      "(0, 'a')\n",
      "(1, 's')\n",
      "(2, 'd')\n",
      "(3, 'f')\n",
      "(4, 'g')\n",
      "(5, 'h')\n",
      "(6, 'j')\n",
      "(7, 'k')\n",
      "(8, 'l')\n"
     ]
    }
   ],
   "source": [
    "to_enumerate = 'asdfghjkl' \n",
    "for i in enumerate(to_enumerate):\n",
    "    print(i)"
   ]
  },
  {
   "cell_type": "code",
   "execution_count": 147,
   "id": "324cf706",
   "metadata": {},
   "outputs": [
    {
     "name": "stdout",
     "output_type": "stream",
     "text": [
      "0 a \n",
      "\n",
      "1 s \n",
      "\n",
      "2 d \n",
      "\n",
      "3 f \n",
      "\n",
      "4 g \n",
      "\n",
      "5 h \n",
      "\n",
      "6 j \n",
      "\n",
      "7 k \n",
      "\n",
      "8 l \n",
      "\n"
     ]
    }
   ],
   "source": [
    "#for tuple unpacking\n",
    "to_enumerate = 'asdfghjkl' \n",
    "for i,y in enumerate(to_enumerate):\n",
    "    print(i, y, '\\n')"
   ]
  },
  {
   "cell_type": "code",
   "execution_count": 149,
   "id": "aade301d",
   "metadata": {},
   "outputs": [
    {
     "name": "stdout",
     "output_type": "stream",
     "text": [
      "(1, 'a', (11, 22))\n",
      "(3, 's', (33, 44))\n",
      "(5, 'd', (55, 66))\n"
     ]
    }
   ],
   "source": [
    "for item in zip(list_by_range,to_enumerate, list_w_tuple):\n",
    "    print(item)"
   ]
  },
  {
   "cell_type": "raw",
   "id": "a552c675",
   "metadata": {},
   "source": [
    "Input"
   ]
  },
  {
   "cell_type": "code",
   "execution_count": 152,
   "id": "712dba2c",
   "metadata": {},
   "outputs": [
    {
     "name": "stdout",
     "output_type": "stream",
     "text": [
      "add something 15\n"
     ]
    }
   ],
   "source": [
    "\n",
    "xy = input('add something ')"
   ]
  },
  {
   "cell_type": "code",
   "execution_count": 153,
   "id": "4f3efae0",
   "metadata": {},
   "outputs": [
    {
     "data": {
      "text/plain": [
       "'15'"
      ]
     },
     "execution_count": 153,
     "metadata": {},
     "output_type": "execute_result"
    }
   ],
   "source": [
    "xy"
   ]
  },
  {
   "cell_type": "code",
   "execution_count": 154,
   "id": "9d5c116d",
   "metadata": {},
   "outputs": [
    {
     "data": {
      "text/plain": [
       "str"
      ]
     },
     "execution_count": 154,
     "metadata": {},
     "output_type": "execute_result"
    }
   ],
   "source": [
    "type(xy)"
   ]
  },
  {
   "cell_type": "code",
   "execution_count": 155,
   "id": "17858bdf",
   "metadata": {},
   "outputs": [
    {
     "data": {
      "text/plain": [
       "15"
      ]
     },
     "execution_count": 155,
     "metadata": {},
     "output_type": "execute_result"
    }
   ],
   "source": [
    "int(xy)"
   ]
  },
  {
   "cell_type": "code",
   "execution_count": 156,
   "id": "8ff80c8c",
   "metadata": {},
   "outputs": [
    {
     "data": {
      "text/plain": [
       "15.0"
      ]
     },
     "execution_count": 156,
     "metadata": {},
     "output_type": "execute_result"
    }
   ],
   "source": [
    "float(xy)"
   ]
  },
  {
   "cell_type": "code",
   "execution_count": 157,
   "id": "6cc0a9f5",
   "metadata": {},
   "outputs": [
    {
     "data": {
      "text/plain": [
       "'15'"
      ]
     },
     "execution_count": 157,
     "metadata": {},
     "output_type": "execute_result"
    }
   ],
   "source": [
    "str(xy)"
   ]
  },
  {
   "cell_type": "markdown",
   "id": "3e3a591b",
   "metadata": {},
   "source": [
    "## list comprehensions"
   ]
  },
  {
   "cell_type": "code",
   "execution_count": 188,
   "id": "9d367177",
   "metadata": {},
   "outputs": [],
   "source": [
    "mystring = [1,2,4,4,5,2,43,1,34]"
   ]
  },
  {
   "cell_type": "code",
   "execution_count": 189,
   "id": "b9abd40c",
   "metadata": {},
   "outputs": [],
   "source": [
    "mylist = ['hello I am replace mystring in this list']"
   ]
  },
  {
   "cell_type": "code",
   "execution_count": 190,
   "id": "e3aa83b2",
   "metadata": {},
   "outputs": [
    {
     "data": {
      "text/plain": [
       "['hello I am replace mystring in this list']"
      ]
     },
     "execution_count": 190,
     "metadata": {},
     "output_type": "execute_result"
    }
   ],
   "source": [
    "mylist"
   ]
  },
  {
   "cell_type": "code",
   "execution_count": 191,
   "id": "1c8d816b",
   "metadata": {},
   "outputs": [],
   "source": [
    "for i in mystring:\n",
    "    mylist.append(i)"
   ]
  },
  {
   "cell_type": "code",
   "execution_count": 192,
   "id": "842de01c",
   "metadata": {},
   "outputs": [
    {
     "data": {
      "text/plain": [
       "['hello I am replace mystring in this list', 1, 2, 4, 4, 5, 2, 43, 1, 34]"
      ]
     },
     "execution_count": 192,
     "metadata": {},
     "output_type": "execute_result"
    }
   ],
   "source": [
    "mylist"
   ]
  },
  {
   "cell_type": "code",
   "execution_count": 194,
   "id": "882a196a",
   "metadata": {},
   "outputs": [],
   "source": [
    "mylist = [i for i in mystring]\n",
    "#this code will replace the existing list"
   ]
  },
  {
   "cell_type": "code",
   "execution_count": 195,
   "id": "c98f3271",
   "metadata": {},
   "outputs": [
    {
     "data": {
      "text/plain": [
       "[1, 2, 4, 4, 5, 2, 43, 1, 34]"
      ]
     },
     "execution_count": 195,
     "metadata": {},
     "output_type": "execute_result"
    }
   ],
   "source": [
    "mylist\n"
   ]
  },
  {
   "cell_type": "code",
   "execution_count": 186,
   "id": "815e99cc",
   "metadata": {},
   "outputs": [],
   "source": [
    "for i in mystring:\n",
    "    mylist.append(i)"
   ]
  },
  {
   "cell_type": "markdown",
   "id": "76a4457c",
   "metadata": {},
   "source": [
    "### putting operation and more statement"
   ]
  },
  {
   "cell_type": "code",
   "execution_count": 204,
   "id": "8dbbd915",
   "metadata": {},
   "outputs": [],
   "source": [
    "celcius = [0,10,30,40,50,55]\n",
    "\n",
    "fahrenheit = [((9/5)*temp +32) for temp in celcius ]"
   ]
  },
  {
   "cell_type": "code",
   "execution_count": 205,
   "id": "4d528294",
   "metadata": {},
   "outputs": [
    {
     "data": {
      "text/plain": [
       "[32.0, 50.0, 86.0, 104.0, 122.0, 131.0]"
      ]
     },
     "execution_count": 205,
     "metadata": {},
     "output_type": "execute_result"
    }
   ],
   "source": [
    "fahrenheit"
   ]
  },
  {
   "cell_type": "code",
   "execution_count": 206,
   "id": "a0c140f7",
   "metadata": {},
   "outputs": [],
   "source": [
    "fahrenheit = [((9/5)*temp +32) for temp in celcius if temp % 2 == 0]"
   ]
  },
  {
   "cell_type": "code",
   "execution_count": 237,
   "id": "cc278431",
   "metadata": {},
   "outputs": [
    {
     "data": {
      "text/plain": [
       "'[32.0, 50.0, 86.0, 104.0, 122.0]'"
      ]
     },
     "execution_count": 237,
     "metadata": {},
     "output_type": "execute_result"
    }
   ],
   "source": [
    "str(fahrenheit)"
   ]
  },
  {
   "cell_type": "markdown",
   "id": "049e407b",
   "metadata": {},
   "source": [
    "### if, else and for statement"
   ]
  },
  {
   "cell_type": "code",
   "execution_count": 226,
   "id": "85d14d44",
   "metadata": {},
   "outputs": [
    {
     "name": "stdout",
     "output_type": "stream",
     "text": [
      "1 is not divisible by 3\n",
      "2 is not divisible by 3\n",
      "4 is not divisible by 3\n",
      "5 is not divisible by 3\n",
      "7 is not divisible by 3\n",
      "8 is not divisible by 3\n",
      "10 is not divisible by 3\n",
      "11 is not divisible by 3\n",
      "13 is not divisible by 3\n",
      "14 is not divisible by 3\n",
      "16 is not divisible by 3\n",
      "17 is not divisible by 3\n"
     ]
    }
   ],
   "source": [
    "list_1 = [ x if x%3 == 0 else print(f'{x} is not divisible by 3') for x in range(0,19) ]"
   ]
  },
  {
   "cell_type": "markdown",
   "id": "7bd95b7e",
   "metadata": {},
   "source": [
    "\n",
    "### nested loop"
   ]
  },
  {
   "cell_type": "code",
   "execution_count": 247,
   "id": "8b05d517",
   "metadata": {},
   "outputs": [],
   "source": [
    "nested_loop = []\n",
    "\n",
    "for i in [1,2,3,4]:\n",
    "    for y in [10]:\n",
    "        nested_loop.append(i*y)"
   ]
  },
  {
   "cell_type": "code",
   "execution_count": 248,
   "id": "f6f0ba4b",
   "metadata": {},
   "outputs": [
    {
     "data": {
      "text/plain": [
       "[10, 20, 30, 40]"
      ]
     },
     "execution_count": 248,
     "metadata": {},
     "output_type": "execute_result"
    }
   ],
   "source": [
    "nested_loop"
   ]
  },
  {
   "cell_type": "markdown",
   "id": "486f315f",
   "metadata": {},
   "source": [
    "# function "
   ]
  },
  {
   "cell_type": "code",
   "execution_count": 261,
   "id": "cec315ad",
   "metadata": {},
   "outputs": [],
   "source": [
    "def test_f():\n",
    "    print('test_f function is working')"
   ]
  },
  {
   "cell_type": "code",
   "execution_count": 262,
   "id": "9982c5cb",
   "metadata": {},
   "outputs": [
    {
     "name": "stdout",
     "output_type": "stream",
     "text": [
      "test_f function is working\n"
     ]
    }
   ],
   "source": [
    "test_f()"
   ]
  },
  {
   "cell_type": "code",
   "execution_count": 275,
   "id": "c5caf09b",
   "metadata": {},
   "outputs": [],
   "source": [
    "def assign_name():\n",
    "    print(f'My name is {input()}')"
   ]
  },
  {
   "cell_type": "code",
   "execution_count": 276,
   "id": "bb93226d",
   "metadata": {},
   "outputs": [
    {
     "name": "stdout",
     "output_type": "stream",
     "text": [
      "Aditya\n",
      "My name is Aditya\n"
     ]
    }
   ],
   "source": [
    "assign_name() "
   ]
  },
  {
   "cell_type": "markdown",
   "id": "d50bcfb3",
   "metadata": {},
   "source": [
    "\n",
    "##  Using return keyword"
   ]
  },
  {
   "cell_type": "code",
   "execution_count": 271,
   "id": "328d99cc",
   "metadata": {},
   "outputs": [],
   "source": [
    "#return assign the result in variable\n",
    "\n",
    "def "
   ]
  },
  {
   "cell_type": "code",
   "execution_count": 279,
   "id": "11b41910",
   "metadata": {},
   "outputs": [],
   "source": [
    "def assign_name():\n",
    "    return f'My name is {input()}'"
   ]
  },
  {
   "cell_type": "code",
   "execution_count": 281,
   "id": "86828bec",
   "metadata": {},
   "outputs": [
    {
     "name": "stdout",
     "output_type": "stream",
     "text": [
      "Aditya\n"
     ]
    }
   ],
   "source": [
    "Name  = assign_name()"
   ]
  },
  {
   "cell_type": "code",
   "execution_count": 282,
   "id": "a4b171ed",
   "metadata": {},
   "outputs": [
    {
     "data": {
      "text/plain": [
       "'My name is Aditya'"
      ]
     },
     "execution_count": 282,
     "metadata": {},
     "output_type": "execute_result"
    }
   ],
   "source": [
    "Name"
   ]
  },
  {
   "cell_type": "code",
   "execution_count": null,
   "id": "cb57c8e8",
   "metadata": {},
   "outputs": [],
   "source": []
  },
  {
   "cell_type": "raw",
   "id": "54a65f1b",
   "metadata": {},
   "source": []
  },
  {
   "cell_type": "raw",
   "id": "7c60cf08",
   "metadata": {},
   "source": []
  },
  {
   "cell_type": "raw",
   "id": "d2749e82",
   "metadata": {},
   "source": []
  },
  {
   "cell_type": "raw",
   "id": "b0ce89f1",
   "metadata": {},
   "source": []
  },
  {
   "cell_type": "code",
   "execution_count": null,
   "id": "ed1106d7",
   "metadata": {},
   "outputs": [],
   "source": []
  },
  {
   "cell_type": "raw",
   "id": "b253492b",
   "metadata": {},
   "source": []
  },
  {
   "cell_type": "raw",
   "id": "07ee8e52",
   "metadata": {},
   "source": []
  },
  {
   "cell_type": "raw",
   "id": "7f0cf714",
   "metadata": {},
   "source": []
  },
  {
   "cell_type": "raw",
   "id": "03376053",
   "metadata": {},
   "source": []
  },
  {
   "cell_type": "raw",
   "id": "9db91749",
   "metadata": {},
   "source": []
  },
  {
   "cell_type": "raw",
   "id": "c054f99a",
   "metadata": {},
   "source": []
  },
  {
   "cell_type": "raw",
   "id": "5afc3ba3",
   "metadata": {},
   "source": []
  },
  {
   "cell_type": "raw",
   "id": "350de99c",
   "metadata": {},
   "source": []
  },
  {
   "cell_type": "raw",
   "id": "7996f1c1",
   "metadata": {},
   "source": []
  },
  {
   "cell_type": "raw",
   "id": "ef96378e",
   "metadata": {},
   "source": []
  },
  {
   "cell_type": "raw",
   "id": "a5f4f3c5",
   "metadata": {},
   "source": []
  },
  {
   "cell_type": "raw",
   "id": "a0b72690",
   "metadata": {},
   "source": []
  },
  {
   "cell_type": "raw",
   "id": "1efe8ed4",
   "metadata": {},
   "source": []
  },
  {
   "cell_type": "raw",
   "id": "e9947094",
   "metadata": {},
   "source": []
  },
  {
   "cell_type": "raw",
   "id": "11db2176",
   "metadata": {},
   "source": []
  },
  {
   "cell_type": "raw",
   "id": "76bae8ec",
   "metadata": {},
   "source": []
  },
  {
   "cell_type": "raw",
   "id": "ba06352a",
   "metadata": {},
   "source": []
  },
  {
   "cell_type": "raw",
   "id": "36c6baab",
   "metadata": {},
   "source": []
  },
  {
   "cell_type": "raw",
   "id": "738affe9",
   "metadata": {},
   "source": []
  },
  {
   "cell_type": "raw",
   "id": "2a9f6d1c",
   "metadata": {},
   "source": []
  },
  {
   "cell_type": "raw",
   "id": "47701ab9",
   "metadata": {},
   "source": []
  },
  {
   "cell_type": "raw",
   "id": "35879b4c",
   "metadata": {},
   "source": []
  },
  {
   "cell_type": "raw",
   "id": "77a6d83c",
   "metadata": {},
   "source": []
  },
  {
   "cell_type": "raw",
   "id": "3bb9cf5e",
   "metadata": {},
   "source": []
  },
  {
   "cell_type": "raw",
   "id": "22c7c1ca",
   "metadata": {},
   "source": []
  },
  {
   "cell_type": "raw",
   "id": "59c9a9bb",
   "metadata": {},
   "source": []
  },
  {
   "cell_type": "raw",
   "id": "df273fd5",
   "metadata": {},
   "source": []
  },
  {
   "cell_type": "raw",
   "id": "8d0f9486",
   "metadata": {},
   "source": []
  },
  {
   "cell_type": "raw",
   "id": "9ca4ea40",
   "metadata": {},
   "source": []
  },
  {
   "cell_type": "raw",
   "id": "69fde590",
   "metadata": {},
   "source": []
  },
  {
   "cell_type": "raw",
   "id": "bbfbd884",
   "metadata": {},
   "source": []
  },
  {
   "cell_type": "raw",
   "id": "aad4aa05",
   "metadata": {},
   "source": []
  },
  {
   "cell_type": "raw",
   "id": "7cc02074",
   "metadata": {},
   "source": []
  },
  {
   "cell_type": "raw",
   "id": "336259d7",
   "metadata": {},
   "source": []
  },
  {
   "cell_type": "raw",
   "id": "6969098c",
   "metadata": {},
   "source": []
  },
  {
   "cell_type": "raw",
   "id": "69d50127",
   "metadata": {},
   "source": []
  },
  {
   "cell_type": "raw",
   "id": "58ec027c",
   "metadata": {},
   "source": []
  },
  {
   "cell_type": "raw",
   "id": "793651e9",
   "metadata": {},
   "source": []
  },
  {
   "cell_type": "raw",
   "id": "75eca5d2",
   "metadata": {},
   "source": []
  },
  {
   "cell_type": "raw",
   "id": "ad5c511c",
   "metadata": {},
   "source": []
  },
  {
   "cell_type": "raw",
   "id": "8bf7c52f",
   "metadata": {},
   "source": []
  },
  {
   "cell_type": "raw",
   "id": "aa13a80c",
   "metadata": {},
   "source": []
  },
  {
   "cell_type": "raw",
   "id": "99e46647",
   "metadata": {},
   "source": []
  },
  {
   "cell_type": "raw",
   "id": "89173808",
   "metadata": {},
   "source": []
  },
  {
   "cell_type": "raw",
   "id": "d9d1bc28",
   "metadata": {},
   "source": []
  },
  {
   "cell_type": "raw",
   "id": "1a67c979",
   "metadata": {},
   "source": []
  },
  {
   "cell_type": "raw",
   "id": "b8ffac86",
   "metadata": {},
   "source": []
  },
  {
   "cell_type": "raw",
   "id": "8236a1be",
   "metadata": {},
   "source": []
  },
  {
   "cell_type": "raw",
   "id": "5dce865e",
   "metadata": {},
   "source": []
  },
  {
   "cell_type": "raw",
   "id": "a0193ceb",
   "metadata": {},
   "source": []
  },
  {
   "cell_type": "raw",
   "id": "be9296c1",
   "metadata": {},
   "source": []
  },
  {
   "cell_type": "raw",
   "id": "7ef6e3e9",
   "metadata": {},
   "source": []
  },
  {
   "cell_type": "raw",
   "id": "967ff61c",
   "metadata": {},
   "source": []
  },
  {
   "cell_type": "raw",
   "id": "571fbd99",
   "metadata": {},
   "source": []
  },
  {
   "cell_type": "raw",
   "id": "1c5f8abe",
   "metadata": {},
   "source": []
  },
  {
   "cell_type": "raw",
   "id": "9e2a946f",
   "metadata": {},
   "source": []
  },
  {
   "cell_type": "raw",
   "id": "597f82ad",
   "metadata": {},
   "source": []
  },
  {
   "cell_type": "raw",
   "id": "7fa8a5d3",
   "metadata": {},
   "source": []
  },
  {
   "cell_type": "raw",
   "id": "e149b903",
   "metadata": {},
   "source": []
  },
  {
   "cell_type": "raw",
   "id": "f7e1995b",
   "metadata": {},
   "source": []
  },
  {
   "cell_type": "raw",
   "id": "0b1e1a3c",
   "metadata": {},
   "source": []
  },
  {
   "cell_type": "raw",
   "id": "a835c67a",
   "metadata": {},
   "source": []
  },
  {
   "cell_type": "raw",
   "id": "2e24616e",
   "metadata": {},
   "source": []
  },
  {
   "cell_type": "raw",
   "id": "45b2d134",
   "metadata": {},
   "source": []
  },
  {
   "cell_type": "raw",
   "id": "71f6a245",
   "metadata": {},
   "source": []
  },
  {
   "cell_type": "raw",
   "id": "da0dcac1",
   "metadata": {},
   "source": []
  },
  {
   "cell_type": "raw",
   "id": "948b7b7d",
   "metadata": {},
   "source": []
  },
  {
   "cell_type": "raw",
   "id": "47073aa0",
   "metadata": {},
   "source": []
  },
  {
   "cell_type": "raw",
   "id": "85de2d6a",
   "metadata": {},
   "source": []
  },
  {
   "cell_type": "raw",
   "id": "c3182328",
   "metadata": {},
   "source": []
  },
  {
   "cell_type": "raw",
   "id": "43d23637",
   "metadata": {},
   "source": []
  },
  {
   "cell_type": "raw",
   "id": "d8ebae12",
   "metadata": {},
   "source": []
  },
  {
   "cell_type": "raw",
   "id": "43621765",
   "metadata": {},
   "source": []
  },
  {
   "cell_type": "raw",
   "id": "dc42d1ae",
   "metadata": {},
   "source": []
  },
  {
   "cell_type": "raw",
   "id": "f88fd05a",
   "metadata": {},
   "source": []
  },
  {
   "cell_type": "raw",
   "id": "f37e3503",
   "metadata": {},
   "source": []
  },
  {
   "cell_type": "raw",
   "id": "6acdd932",
   "metadata": {},
   "source": []
  },
  {
   "cell_type": "raw",
   "id": "2151cdc9",
   "metadata": {},
   "source": []
  },
  {
   "cell_type": "raw",
   "id": "89b9e33e",
   "metadata": {},
   "source": []
  },
  {
   "cell_type": "raw",
   "id": "41d7835e",
   "metadata": {},
   "source": []
  },
  {
   "cell_type": "raw",
   "id": "47b9d369",
   "metadata": {},
   "source": []
  },
  {
   "cell_type": "raw",
   "id": "3b39e86c",
   "metadata": {},
   "source": []
  },
  {
   "cell_type": "raw",
   "id": "d073b4b8",
   "metadata": {},
   "source": []
  },
  {
   "cell_type": "raw",
   "id": "9617f262",
   "metadata": {},
   "source": []
  },
  {
   "cell_type": "raw",
   "id": "f76f7827",
   "metadata": {},
   "source": []
  },
  {
   "cell_type": "raw",
   "id": "afd5ce96",
   "metadata": {},
   "source": []
  },
  {
   "cell_type": "raw",
   "id": "b7dd6ec0",
   "metadata": {},
   "source": []
  },
  {
   "cell_type": "raw",
   "id": "68644371",
   "metadata": {},
   "source": []
  },
  {
   "cell_type": "raw",
   "id": "681581eb",
   "metadata": {},
   "source": []
  },
  {
   "cell_type": "raw",
   "id": "adb67e3a",
   "metadata": {},
   "source": []
  },
  {
   "cell_type": "raw",
   "id": "9734dafb",
   "metadata": {},
   "source": []
  },
  {
   "cell_type": "raw",
   "id": "2373e6dc",
   "metadata": {},
   "source": []
  },
  {
   "cell_type": "raw",
   "id": "15d9b829",
   "metadata": {},
   "source": []
  },
  {
   "cell_type": "raw",
   "id": "b6256e74",
   "metadata": {},
   "source": []
  },
  {
   "cell_type": "raw",
   "id": "4ebd183e",
   "metadata": {},
   "source": []
  },
  {
   "cell_type": "raw",
   "id": "cd0021e6",
   "metadata": {},
   "source": []
  },
  {
   "cell_type": "raw",
   "id": "76f05818",
   "metadata": {},
   "source": []
  },
  {
   "cell_type": "raw",
   "id": "b5b12aae",
   "metadata": {},
   "source": []
  },
  {
   "cell_type": "raw",
   "id": "032085cc",
   "metadata": {},
   "source": []
  },
  {
   "cell_type": "raw",
   "id": "acf40e34",
   "metadata": {},
   "source": []
  },
  {
   "cell_type": "raw",
   "id": "191fe115",
   "metadata": {},
   "source": []
  },
  {
   "cell_type": "raw",
   "id": "d24370d3",
   "metadata": {},
   "source": []
  },
  {
   "cell_type": "raw",
   "id": "578acc21",
   "metadata": {},
   "source": []
  },
  {
   "cell_type": "raw",
   "id": "e2550ffd",
   "metadata": {},
   "source": []
  },
  {
   "cell_type": "raw",
   "id": "19e59ce1",
   "metadata": {},
   "source": []
  },
  {
   "cell_type": "raw",
   "id": "59e4584b",
   "metadata": {},
   "source": []
  },
  {
   "cell_type": "raw",
   "id": "e0c67b29",
   "metadata": {},
   "source": []
  },
  {
   "cell_type": "raw",
   "id": "614b5057",
   "metadata": {},
   "source": []
  },
  {
   "cell_type": "raw",
   "id": "b6e13060",
   "metadata": {},
   "source": []
  },
  {
   "cell_type": "raw",
   "id": "b7e6f677",
   "metadata": {},
   "source": []
  },
  {
   "cell_type": "raw",
   "id": "e9e11df0",
   "metadata": {},
   "source": []
  },
  {
   "cell_type": "raw",
   "id": "32264866",
   "metadata": {},
   "source": []
  },
  {
   "cell_type": "raw",
   "id": "bd0cec89",
   "metadata": {},
   "source": []
  },
  {
   "cell_type": "raw",
   "id": "7a8f51e9",
   "metadata": {},
   "source": []
  },
  {
   "cell_type": "raw",
   "id": "c33e36ce",
   "metadata": {},
   "source": []
  },
  {
   "cell_type": "raw",
   "id": "e2920068",
   "metadata": {},
   "source": []
  },
  {
   "cell_type": "raw",
   "id": "3f5188ca",
   "metadata": {},
   "source": []
  },
  {
   "cell_type": "raw",
   "id": "fbd81cd0",
   "metadata": {},
   "source": []
  },
  {
   "cell_type": "raw",
   "id": "359d6eb5",
   "metadata": {},
   "source": []
  },
  {
   "cell_type": "raw",
   "id": "4de7f2c3",
   "metadata": {},
   "source": []
  },
  {
   "cell_type": "raw",
   "id": "def4bb38",
   "metadata": {},
   "source": []
  },
  {
   "cell_type": "raw",
   "id": "5ce2274d",
   "metadata": {},
   "source": []
  },
  {
   "cell_type": "raw",
   "id": "f8b254bd",
   "metadata": {},
   "source": []
  },
  {
   "cell_type": "raw",
   "id": "00b92ade",
   "metadata": {},
   "source": []
  },
  {
   "cell_type": "raw",
   "id": "23e7c0a0",
   "metadata": {},
   "source": []
  },
  {
   "cell_type": "raw",
   "id": "d2fe56a7",
   "metadata": {},
   "source": []
  },
  {
   "cell_type": "raw",
   "id": "609e3a47",
   "metadata": {},
   "source": []
  },
  {
   "cell_type": "raw",
   "id": "6af7e083",
   "metadata": {},
   "source": []
  },
  {
   "cell_type": "raw",
   "id": "82da54fb",
   "metadata": {},
   "source": []
  },
  {
   "cell_type": "raw",
   "id": "ca12ce40",
   "metadata": {},
   "source": []
  },
  {
   "cell_type": "raw",
   "id": "f2851161",
   "metadata": {},
   "source": []
  },
  {
   "cell_type": "raw",
   "id": "c2ac49a5",
   "metadata": {},
   "source": []
  },
  {
   "cell_type": "raw",
   "id": "e2127a77",
   "metadata": {},
   "source": []
  },
  {
   "cell_type": "raw",
   "id": "d4743cc5",
   "metadata": {},
   "source": []
  },
  {
   "cell_type": "raw",
   "id": "3c2be90c",
   "metadata": {},
   "source": []
  },
  {
   "cell_type": "raw",
   "id": "1609fdc9",
   "metadata": {},
   "source": []
  },
  {
   "cell_type": "raw",
   "id": "e5e9a698",
   "metadata": {},
   "source": []
  },
  {
   "cell_type": "raw",
   "id": "855eef85",
   "metadata": {},
   "source": []
  },
  {
   "cell_type": "raw",
   "id": "395b6b51",
   "metadata": {},
   "source": []
  },
  {
   "cell_type": "raw",
   "id": "0e061f85",
   "metadata": {},
   "source": []
  },
  {
   "cell_type": "raw",
   "id": "6fb04bdd",
   "metadata": {},
   "source": []
  },
  {
   "cell_type": "raw",
   "id": "b1d26a4e",
   "metadata": {},
   "source": []
  },
  {
   "cell_type": "raw",
   "id": "6a780591",
   "metadata": {},
   "source": []
  },
  {
   "cell_type": "raw",
   "id": "7f74b994",
   "metadata": {},
   "source": []
  },
  {
   "cell_type": "raw",
   "id": "8882f52c",
   "metadata": {},
   "source": []
  },
  {
   "cell_type": "raw",
   "id": "40a1edfa",
   "metadata": {},
   "source": []
  },
  {
   "cell_type": "raw",
   "id": "d04b96c1",
   "metadata": {},
   "source": []
  },
  {
   "cell_type": "raw",
   "id": "78bb28f1",
   "metadata": {},
   "source": []
  },
  {
   "cell_type": "raw",
   "id": "bde0e669",
   "metadata": {},
   "source": []
  },
  {
   "cell_type": "raw",
   "id": "e4e4e402",
   "metadata": {},
   "source": []
  },
  {
   "cell_type": "raw",
   "id": "735b427e",
   "metadata": {},
   "source": []
  },
  {
   "cell_type": "raw",
   "id": "3009c620",
   "metadata": {},
   "source": []
  },
  {
   "cell_type": "raw",
   "id": "6a15fef2",
   "metadata": {},
   "source": []
  },
  {
   "cell_type": "raw",
   "id": "74fccc79",
   "metadata": {},
   "source": []
  },
  {
   "cell_type": "raw",
   "id": "5d902ae8",
   "metadata": {},
   "source": []
  },
  {
   "cell_type": "raw",
   "id": "c65f7a70",
   "metadata": {},
   "source": []
  },
  {
   "cell_type": "raw",
   "id": "f3385d38",
   "metadata": {},
   "source": []
  },
  {
   "cell_type": "raw",
   "id": "2e18f37c",
   "metadata": {},
   "source": []
  },
  {
   "cell_type": "raw",
   "id": "9f2b026d",
   "metadata": {},
   "source": []
  },
  {
   "cell_type": "raw",
   "id": "803408ff",
   "metadata": {},
   "source": []
  },
  {
   "cell_type": "raw",
   "id": "225d8c47",
   "metadata": {},
   "source": []
  },
  {
   "cell_type": "raw",
   "id": "73df67fb",
   "metadata": {},
   "source": []
  },
  {
   "cell_type": "raw",
   "id": "f199a806",
   "metadata": {},
   "source": []
  },
  {
   "cell_type": "raw",
   "id": "5ec848bb",
   "metadata": {},
   "source": []
  },
  {
   "cell_type": "raw",
   "id": "3e256d0e",
   "metadata": {},
   "source": []
  },
  {
   "cell_type": "raw",
   "id": "e2f2d62d",
   "metadata": {},
   "source": []
  },
  {
   "cell_type": "raw",
   "id": "80b35688",
   "metadata": {},
   "source": []
  },
  {
   "cell_type": "raw",
   "id": "79f88d34",
   "metadata": {},
   "source": []
  },
  {
   "cell_type": "raw",
   "id": "96d07407",
   "metadata": {},
   "source": []
  },
  {
   "cell_type": "raw",
   "id": "8389c643",
   "metadata": {},
   "source": []
  },
  {
   "cell_type": "raw",
   "id": "ccf676e0",
   "metadata": {},
   "source": []
  },
  {
   "cell_type": "raw",
   "id": "67dad634",
   "metadata": {},
   "source": []
  },
  {
   "cell_type": "raw",
   "id": "a68b2882",
   "metadata": {},
   "source": []
  },
  {
   "cell_type": "raw",
   "id": "c3b9980d",
   "metadata": {},
   "source": []
  },
  {
   "cell_type": "raw",
   "id": "b50e1e8d",
   "metadata": {},
   "source": []
  },
  {
   "cell_type": "raw",
   "id": "9420d9c2",
   "metadata": {},
   "source": []
  },
  {
   "cell_type": "raw",
   "id": "df361603",
   "metadata": {},
   "source": []
  },
  {
   "cell_type": "raw",
   "id": "144234be",
   "metadata": {},
   "source": []
  },
  {
   "cell_type": "raw",
   "id": "373a0ce0",
   "metadata": {},
   "source": []
  },
  {
   "cell_type": "raw",
   "id": "0d32f4c8",
   "metadata": {},
   "source": []
  },
  {
   "cell_type": "raw",
   "id": "cf8e4cdd",
   "metadata": {},
   "source": []
  },
  {
   "cell_type": "raw",
   "id": "163b9dde",
   "metadata": {},
   "source": []
  },
  {
   "cell_type": "raw",
   "id": "ad87eafd",
   "metadata": {},
   "source": []
  },
  {
   "cell_type": "raw",
   "id": "8c814267",
   "metadata": {},
   "source": []
  },
  {
   "cell_type": "raw",
   "id": "e7db2d11",
   "metadata": {},
   "source": []
  },
  {
   "cell_type": "raw",
   "id": "864ebdd6",
   "metadata": {},
   "source": []
  },
  {
   "cell_type": "raw",
   "id": "d05ba3e8",
   "metadata": {},
   "source": []
  },
  {
   "cell_type": "raw",
   "id": "e39dc7f1",
   "metadata": {},
   "source": []
  },
  {
   "cell_type": "raw",
   "id": "fa6cc2eb",
   "metadata": {},
   "source": []
  },
  {
   "cell_type": "raw",
   "id": "5391eea2",
   "metadata": {},
   "source": []
  },
  {
   "cell_type": "raw",
   "id": "fd932543",
   "metadata": {},
   "source": []
  },
  {
   "cell_type": "raw",
   "id": "41788f14",
   "metadata": {},
   "source": []
  },
  {
   "cell_type": "raw",
   "id": "d1777599",
   "metadata": {},
   "source": []
  },
  {
   "cell_type": "raw",
   "id": "aecaf545",
   "metadata": {},
   "source": []
  },
  {
   "cell_type": "raw",
   "id": "e5b6e721",
   "metadata": {},
   "source": []
  },
  {
   "cell_type": "raw",
   "id": "655f9ca3",
   "metadata": {},
   "source": []
  },
  {
   "cell_type": "raw",
   "id": "18b54835",
   "metadata": {},
   "source": []
  },
  {
   "cell_type": "raw",
   "id": "4f74208d",
   "metadata": {},
   "source": []
  },
  {
   "cell_type": "raw",
   "id": "838f55ff",
   "metadata": {},
   "source": []
  },
  {
   "cell_type": "raw",
   "id": "7ea2ddf7",
   "metadata": {},
   "source": []
  },
  {
   "cell_type": "raw",
   "id": "89878a29",
   "metadata": {},
   "source": []
  },
  {
   "cell_type": "raw",
   "id": "e118099e",
   "metadata": {},
   "source": []
  },
  {
   "cell_type": "raw",
   "id": "5a6e3afc",
   "metadata": {},
   "source": []
  },
  {
   "cell_type": "raw",
   "id": "0acb6ec7",
   "metadata": {},
   "source": []
  },
  {
   "cell_type": "raw",
   "id": "15f70ed6",
   "metadata": {},
   "source": []
  },
  {
   "cell_type": "raw",
   "id": "d5cdb9cb",
   "metadata": {},
   "source": []
  },
  {
   "cell_type": "raw",
   "id": "774ee212",
   "metadata": {},
   "source": []
  },
  {
   "cell_type": "raw",
   "id": "abbf7c9f",
   "metadata": {},
   "source": []
  },
  {
   "cell_type": "raw",
   "id": "881f01c9",
   "metadata": {},
   "source": []
  },
  {
   "cell_type": "raw",
   "id": "92dcf774",
   "metadata": {},
   "source": []
  },
  {
   "cell_type": "raw",
   "id": "571e518a",
   "metadata": {},
   "source": []
  },
  {
   "cell_type": "raw",
   "id": "6d8eec6c",
   "metadata": {},
   "source": []
  },
  {
   "cell_type": "raw",
   "id": "201472df",
   "metadata": {},
   "source": []
  },
  {
   "cell_type": "raw",
   "id": "97f26110",
   "metadata": {},
   "source": []
  },
  {
   "cell_type": "raw",
   "id": "919b3557",
   "metadata": {},
   "source": []
  },
  {
   "cell_type": "raw",
   "id": "1b9efe85",
   "metadata": {},
   "source": []
  },
  {
   "cell_type": "raw",
   "id": "52822e70",
   "metadata": {},
   "source": []
  },
  {
   "cell_type": "raw",
   "id": "e55ad65c",
   "metadata": {},
   "source": []
  },
  {
   "cell_type": "raw",
   "id": "09a635de",
   "metadata": {},
   "source": []
  },
  {
   "cell_type": "raw",
   "id": "0ad64891",
   "metadata": {},
   "source": []
  },
  {
   "cell_type": "raw",
   "id": "36af1050",
   "metadata": {},
   "source": []
  },
  {
   "cell_type": "raw",
   "id": "a75dc7cb",
   "metadata": {},
   "source": []
  },
  {
   "cell_type": "raw",
   "id": "3d0febfc",
   "metadata": {},
   "source": []
  },
  {
   "cell_type": "raw",
   "id": "e55426e4",
   "metadata": {},
   "source": []
  },
  {
   "cell_type": "raw",
   "id": "0f028905",
   "metadata": {},
   "source": []
  },
  {
   "cell_type": "raw",
   "id": "8691e187",
   "metadata": {},
   "source": []
  },
  {
   "cell_type": "raw",
   "id": "a8a83157",
   "metadata": {},
   "source": []
  },
  {
   "cell_type": "raw",
   "id": "4dadb3ac",
   "metadata": {},
   "source": []
  },
  {
   "cell_type": "raw",
   "id": "9ddacbdc",
   "metadata": {},
   "source": []
  },
  {
   "cell_type": "raw",
   "id": "4b3be874",
   "metadata": {},
   "source": []
  },
  {
   "cell_type": "raw",
   "id": "8bdb4969",
   "metadata": {},
   "source": []
  },
  {
   "cell_type": "raw",
   "id": "aab08f82",
   "metadata": {},
   "source": []
  },
  {
   "cell_type": "raw",
   "id": "d74e1000",
   "metadata": {},
   "source": []
  },
  {
   "cell_type": "raw",
   "id": "7f24c569",
   "metadata": {},
   "source": []
  },
  {
   "cell_type": "raw",
   "id": "c9aa859c",
   "metadata": {},
   "source": []
  },
  {
   "cell_type": "raw",
   "id": "b8630239",
   "metadata": {},
   "source": []
  },
  {
   "cell_type": "raw",
   "id": "bc5baedd",
   "metadata": {},
   "source": []
  },
  {
   "cell_type": "raw",
   "id": "6facb816",
   "metadata": {},
   "source": []
  },
  {
   "cell_type": "raw",
   "id": "b08665fb",
   "metadata": {},
   "source": []
  },
  {
   "cell_type": "raw",
   "id": "50d295f3",
   "metadata": {},
   "source": []
  },
  {
   "cell_type": "raw",
   "id": "c5410e35",
   "metadata": {},
   "source": []
  },
  {
   "cell_type": "raw",
   "id": "54353c5c",
   "metadata": {},
   "source": []
  },
  {
   "cell_type": "raw",
   "id": "b59e1a9f",
   "metadata": {},
   "source": []
  },
  {
   "cell_type": "raw",
   "id": "50cba9c6",
   "metadata": {},
   "source": []
  },
  {
   "cell_type": "raw",
   "id": "8e3a623f",
   "metadata": {},
   "source": []
  },
  {
   "cell_type": "raw",
   "id": "39a34d18",
   "metadata": {},
   "source": []
  },
  {
   "cell_type": "raw",
   "id": "c6755c5f",
   "metadata": {},
   "source": []
  },
  {
   "cell_type": "raw",
   "id": "236bf9e1",
   "metadata": {},
   "source": []
  },
  {
   "cell_type": "raw",
   "id": "f272f4a5",
   "metadata": {},
   "source": []
  },
  {
   "cell_type": "raw",
   "id": "0a70ab02",
   "metadata": {},
   "source": []
  },
  {
   "cell_type": "raw",
   "id": "ee523959",
   "metadata": {},
   "source": []
  },
  {
   "cell_type": "raw",
   "id": "1caabbaa",
   "metadata": {},
   "source": []
  },
  {
   "cell_type": "raw",
   "id": "72cf245d",
   "metadata": {},
   "source": []
  },
  {
   "cell_type": "raw",
   "id": "98233704",
   "metadata": {},
   "source": []
  },
  {
   "cell_type": "raw",
   "id": "877edcb1",
   "metadata": {},
   "source": []
  },
  {
   "cell_type": "raw",
   "id": "dc0201f4",
   "metadata": {},
   "source": []
  },
  {
   "cell_type": "raw",
   "id": "8e65e8fa",
   "metadata": {},
   "source": []
  },
  {
   "cell_type": "raw",
   "id": "3db25d7f",
   "metadata": {},
   "source": []
  },
  {
   "cell_type": "raw",
   "id": "76aba77c",
   "metadata": {},
   "source": []
  },
  {
   "cell_type": "raw",
   "id": "399d2473",
   "metadata": {},
   "source": []
  },
  {
   "cell_type": "raw",
   "id": "ec891a0e",
   "metadata": {},
   "source": []
  },
  {
   "cell_type": "raw",
   "id": "34145650",
   "metadata": {},
   "source": []
  },
  {
   "cell_type": "raw",
   "id": "a91cad18",
   "metadata": {},
   "source": []
  },
  {
   "cell_type": "raw",
   "id": "49d55532",
   "metadata": {},
   "source": []
  },
  {
   "cell_type": "raw",
   "id": "0c1da55d",
   "metadata": {},
   "source": []
  },
  {
   "cell_type": "raw",
   "id": "600dbfb4",
   "metadata": {},
   "source": []
  },
  {
   "cell_type": "raw",
   "id": "ef429067",
   "metadata": {},
   "source": []
  },
  {
   "cell_type": "raw",
   "id": "f43fe5c5",
   "metadata": {},
   "source": []
  },
  {
   "cell_type": "raw",
   "id": "5ad158b1",
   "metadata": {},
   "source": []
  },
  {
   "cell_type": "raw",
   "id": "29c424f1",
   "metadata": {},
   "source": []
  },
  {
   "cell_type": "raw",
   "id": "c5acf7e8",
   "metadata": {},
   "source": []
  },
  {
   "cell_type": "raw",
   "id": "ed560f1a",
   "metadata": {},
   "source": []
  },
  {
   "cell_type": "raw",
   "id": "e1387edb",
   "metadata": {},
   "source": []
  },
  {
   "cell_type": "raw",
   "id": "9492966a",
   "metadata": {},
   "source": []
  },
  {
   "cell_type": "raw",
   "id": "c1bb228d",
   "metadata": {},
   "source": []
  },
  {
   "cell_type": "raw",
   "id": "b312401f",
   "metadata": {},
   "source": []
  },
  {
   "cell_type": "raw",
   "id": "acd4d1f6",
   "metadata": {},
   "source": []
  },
  {
   "cell_type": "raw",
   "id": "7b66bf8c",
   "metadata": {},
   "source": []
  },
  {
   "cell_type": "raw",
   "id": "93de8bf0",
   "metadata": {},
   "source": []
  },
  {
   "cell_type": "raw",
   "id": "eea812d6",
   "metadata": {},
   "source": []
  },
  {
   "cell_type": "raw",
   "id": "89f6e897",
   "metadata": {},
   "source": []
  },
  {
   "cell_type": "raw",
   "id": "acf50f03",
   "metadata": {},
   "source": []
  },
  {
   "cell_type": "raw",
   "id": "4cc36ca8",
   "metadata": {},
   "source": []
  },
  {
   "cell_type": "raw",
   "id": "2f283386",
   "metadata": {},
   "source": []
  },
  {
   "cell_type": "raw",
   "id": "508071d7",
   "metadata": {},
   "source": []
  },
  {
   "cell_type": "raw",
   "id": "cd717cc9",
   "metadata": {},
   "source": []
  },
  {
   "cell_type": "raw",
   "id": "33353dbf",
   "metadata": {},
   "source": []
  },
  {
   "cell_type": "raw",
   "id": "d573938a",
   "metadata": {},
   "source": []
  },
  {
   "cell_type": "raw",
   "id": "4cc21427",
   "metadata": {},
   "source": []
  },
  {
   "cell_type": "raw",
   "id": "6023152a",
   "metadata": {},
   "source": []
  },
  {
   "cell_type": "raw",
   "id": "8e066385",
   "metadata": {},
   "source": []
  },
  {
   "cell_type": "raw",
   "id": "3480077f",
   "metadata": {},
   "source": []
  },
  {
   "cell_type": "raw",
   "id": "3232dead",
   "metadata": {},
   "source": []
  },
  {
   "cell_type": "raw",
   "id": "695fca0b",
   "metadata": {},
   "source": []
  },
  {
   "cell_type": "raw",
   "id": "48d94efc",
   "metadata": {},
   "source": []
  },
  {
   "cell_type": "raw",
   "id": "74fa6e3e",
   "metadata": {},
   "source": []
  },
  {
   "cell_type": "raw",
   "id": "5d80d1c7",
   "metadata": {},
   "source": []
  },
  {
   "cell_type": "raw",
   "id": "2431927c",
   "metadata": {},
   "source": []
  },
  {
   "cell_type": "raw",
   "id": "bbba4209",
   "metadata": {},
   "source": []
  },
  {
   "cell_type": "raw",
   "id": "5a533734",
   "metadata": {},
   "source": []
  },
  {
   "cell_type": "raw",
   "id": "347628e6",
   "metadata": {},
   "source": []
  },
  {
   "cell_type": "raw",
   "id": "3d61835d",
   "metadata": {},
   "source": []
  },
  {
   "cell_type": "raw",
   "id": "49b71297",
   "metadata": {},
   "source": []
  },
  {
   "cell_type": "raw",
   "id": "d90ddfcf",
   "metadata": {},
   "source": []
  },
  {
   "cell_type": "raw",
   "id": "5c44d31b",
   "metadata": {},
   "source": []
  },
  {
   "cell_type": "raw",
   "id": "8e6b91cc",
   "metadata": {},
   "source": []
  },
  {
   "cell_type": "raw",
   "id": "7db89d2e",
   "metadata": {},
   "source": []
  },
  {
   "cell_type": "raw",
   "id": "d050966c",
   "metadata": {},
   "source": []
  },
  {
   "cell_type": "raw",
   "id": "555031d9",
   "metadata": {},
   "source": []
  },
  {
   "cell_type": "raw",
   "id": "dc6ea9b3",
   "metadata": {},
   "source": []
  },
  {
   "cell_type": "raw",
   "id": "3993a477",
   "metadata": {},
   "source": []
  },
  {
   "cell_type": "raw",
   "id": "8e36499c",
   "metadata": {},
   "source": []
  },
  {
   "cell_type": "raw",
   "id": "7411866a",
   "metadata": {},
   "source": []
  },
  {
   "cell_type": "raw",
   "id": "35bb529b",
   "metadata": {},
   "source": []
  },
  {
   "cell_type": "raw",
   "id": "b14887cf",
   "metadata": {},
   "source": []
  },
  {
   "cell_type": "raw",
   "id": "b105dec4",
   "metadata": {},
   "source": []
  },
  {
   "cell_type": "raw",
   "id": "6cf0ce1e",
   "metadata": {},
   "source": []
  },
  {
   "cell_type": "raw",
   "id": "b7fb9c68",
   "metadata": {},
   "source": []
  },
  {
   "cell_type": "raw",
   "id": "57329feb",
   "metadata": {},
   "source": []
  },
  {
   "cell_type": "raw",
   "id": "9b125874",
   "metadata": {},
   "source": []
  },
  {
   "cell_type": "raw",
   "id": "2bce2995",
   "metadata": {},
   "source": []
  },
  {
   "cell_type": "raw",
   "id": "035c0c46",
   "metadata": {},
   "source": []
  },
  {
   "cell_type": "raw",
   "id": "c87f9996",
   "metadata": {},
   "source": []
  },
  {
   "cell_type": "raw",
   "id": "e3e073f3",
   "metadata": {},
   "source": []
  },
  {
   "cell_type": "raw",
   "id": "d0086b93",
   "metadata": {},
   "source": []
  },
  {
   "cell_type": "raw",
   "id": "0fbfbbf5",
   "metadata": {},
   "source": []
  },
  {
   "cell_type": "raw",
   "id": "6b3cb89d",
   "metadata": {},
   "source": []
  },
  {
   "cell_type": "raw",
   "id": "d409dbea",
   "metadata": {},
   "source": []
  },
  {
   "cell_type": "raw",
   "id": "1613a268",
   "metadata": {},
   "source": []
  },
  {
   "cell_type": "raw",
   "id": "f330990e",
   "metadata": {},
   "source": []
  },
  {
   "cell_type": "raw",
   "id": "3ffc57b8",
   "metadata": {},
   "source": []
  },
  {
   "cell_type": "raw",
   "id": "c8b512be",
   "metadata": {},
   "source": []
  },
  {
   "cell_type": "raw",
   "id": "b5b21506",
   "metadata": {},
   "source": []
  },
  {
   "cell_type": "raw",
   "id": "7e0e4771",
   "metadata": {},
   "source": []
  },
  {
   "cell_type": "raw",
   "id": "7b05878c",
   "metadata": {},
   "source": []
  },
  {
   "cell_type": "raw",
   "id": "00f8a60c",
   "metadata": {},
   "source": []
  },
  {
   "cell_type": "raw",
   "id": "cfc80875",
   "metadata": {},
   "source": []
  },
  {
   "cell_type": "raw",
   "id": "d755f448",
   "metadata": {},
   "source": []
  },
  {
   "cell_type": "raw",
   "id": "a8a6f913",
   "metadata": {},
   "source": []
  },
  {
   "cell_type": "raw",
   "id": "d692400d",
   "metadata": {},
   "source": []
  },
  {
   "cell_type": "raw",
   "id": "e8efe5b5",
   "metadata": {},
   "source": []
  },
  {
   "cell_type": "raw",
   "id": "d845c086",
   "metadata": {},
   "source": []
  },
  {
   "cell_type": "raw",
   "id": "d544bea6",
   "metadata": {},
   "source": []
  },
  {
   "cell_type": "raw",
   "id": "16e4b472",
   "metadata": {},
   "source": []
  },
  {
   "cell_type": "raw",
   "id": "fb363ea2",
   "metadata": {},
   "source": []
  },
  {
   "cell_type": "raw",
   "id": "1e993e10",
   "metadata": {},
   "source": []
  },
  {
   "cell_type": "raw",
   "id": "ee4dbc8b",
   "metadata": {},
   "source": []
  },
  {
   "cell_type": "raw",
   "id": "fdbb0b63",
   "metadata": {},
   "source": []
  },
  {
   "cell_type": "raw",
   "id": "0734a131",
   "metadata": {},
   "source": []
  },
  {
   "cell_type": "raw",
   "id": "222f3587",
   "metadata": {},
   "source": []
  },
  {
   "cell_type": "raw",
   "id": "0e6cb0ed",
   "metadata": {},
   "source": []
  },
  {
   "cell_type": "raw",
   "id": "6aa2de18",
   "metadata": {},
   "source": []
  },
  {
   "cell_type": "raw",
   "id": "f04bfa49",
   "metadata": {},
   "source": []
  },
  {
   "cell_type": "raw",
   "id": "09a25797",
   "metadata": {},
   "source": []
  },
  {
   "cell_type": "raw",
   "id": "179fed87",
   "metadata": {},
   "source": []
  },
  {
   "cell_type": "raw",
   "id": "03c85ebc",
   "metadata": {},
   "source": []
  },
  {
   "cell_type": "raw",
   "id": "f7494be1",
   "metadata": {},
   "source": []
  },
  {
   "cell_type": "raw",
   "id": "7a5edf99",
   "metadata": {},
   "source": []
  },
  {
   "cell_type": "raw",
   "id": "d9b5cab2",
   "metadata": {},
   "source": []
  },
  {
   "cell_type": "raw",
   "id": "d4afa253",
   "metadata": {},
   "source": []
  },
  {
   "cell_type": "raw",
   "id": "07e40cce",
   "metadata": {},
   "source": []
  },
  {
   "cell_type": "raw",
   "id": "5e8f0af0",
   "metadata": {},
   "source": []
  },
  {
   "cell_type": "raw",
   "id": "56ede163",
   "metadata": {},
   "source": []
  },
  {
   "cell_type": "raw",
   "id": "af61fa90",
   "metadata": {},
   "source": []
  },
  {
   "cell_type": "raw",
   "id": "5492f788",
   "metadata": {},
   "source": []
  },
  {
   "cell_type": "raw",
   "id": "de99d860",
   "metadata": {},
   "source": []
  },
  {
   "cell_type": "raw",
   "id": "74f92c3c",
   "metadata": {},
   "source": []
  },
  {
   "cell_type": "raw",
   "id": "f30d65be",
   "metadata": {},
   "source": []
  },
  {
   "cell_type": "raw",
   "id": "70d5c09a",
   "metadata": {},
   "source": []
  },
  {
   "cell_type": "raw",
   "id": "272df0cc",
   "metadata": {},
   "source": []
  },
  {
   "cell_type": "raw",
   "id": "796e91b8",
   "metadata": {},
   "source": []
  },
  {
   "cell_type": "raw",
   "id": "15d6797a",
   "metadata": {},
   "source": []
  },
  {
   "cell_type": "raw",
   "id": "b9396f53",
   "metadata": {},
   "source": []
  },
  {
   "cell_type": "raw",
   "id": "7fdf2577",
   "metadata": {},
   "source": []
  },
  {
   "cell_type": "raw",
   "id": "e54cba57",
   "metadata": {},
   "source": []
  },
  {
   "cell_type": "raw",
   "id": "b3a8b05b",
   "metadata": {},
   "source": []
  },
  {
   "cell_type": "raw",
   "id": "9986114e",
   "metadata": {},
   "source": []
  },
  {
   "cell_type": "raw",
   "id": "9ddda89d",
   "metadata": {},
   "source": []
  },
  {
   "cell_type": "raw",
   "id": "50f75243",
   "metadata": {},
   "source": []
  },
  {
   "cell_type": "raw",
   "id": "47e16ed3",
   "metadata": {},
   "source": []
  },
  {
   "cell_type": "raw",
   "id": "47d3424b",
   "metadata": {},
   "source": []
  },
  {
   "cell_type": "raw",
   "id": "23bbf4ac",
   "metadata": {},
   "source": []
  },
  {
   "cell_type": "raw",
   "id": "d906690c",
   "metadata": {},
   "source": []
  },
  {
   "cell_type": "raw",
   "id": "ef3547e3",
   "metadata": {},
   "source": []
  },
  {
   "cell_type": "raw",
   "id": "b55fae5a",
   "metadata": {},
   "source": []
  },
  {
   "cell_type": "raw",
   "id": "765b070b",
   "metadata": {},
   "source": []
  },
  {
   "cell_type": "raw",
   "id": "46e97ee3",
   "metadata": {},
   "source": []
  },
  {
   "cell_type": "raw",
   "id": "f009472b",
   "metadata": {},
   "source": []
  },
  {
   "cell_type": "raw",
   "id": "ac76f86a",
   "metadata": {},
   "source": []
  },
  {
   "cell_type": "raw",
   "id": "34f78c20",
   "metadata": {},
   "source": []
  },
  {
   "cell_type": "raw",
   "id": "be707f3e",
   "metadata": {},
   "source": []
  },
  {
   "cell_type": "raw",
   "id": "7cc79657",
   "metadata": {},
   "source": []
  },
  {
   "cell_type": "raw",
   "id": "c1396bbc",
   "metadata": {},
   "source": []
  },
  {
   "cell_type": "raw",
   "id": "8d08866a",
   "metadata": {},
   "source": []
  },
  {
   "cell_type": "raw",
   "id": "87b3ece3",
   "metadata": {},
   "source": []
  },
  {
   "cell_type": "raw",
   "id": "fb02adcb",
   "metadata": {},
   "source": []
  },
  {
   "cell_type": "raw",
   "id": "e59fa51c",
   "metadata": {},
   "source": []
  },
  {
   "cell_type": "raw",
   "id": "cfd0ee34",
   "metadata": {},
   "source": []
  },
  {
   "cell_type": "raw",
   "id": "d9cadf7d",
   "metadata": {},
   "source": []
  },
  {
   "cell_type": "raw",
   "id": "53152361",
   "metadata": {},
   "source": []
  },
  {
   "cell_type": "raw",
   "id": "ab1d9f04",
   "metadata": {},
   "source": []
  },
  {
   "cell_type": "raw",
   "id": "43be5557",
   "metadata": {},
   "source": []
  },
  {
   "cell_type": "raw",
   "id": "3d551e9d",
   "metadata": {},
   "source": []
  },
  {
   "cell_type": "raw",
   "id": "5526057e",
   "metadata": {},
   "source": []
  },
  {
   "cell_type": "raw",
   "id": "8b306676",
   "metadata": {},
   "source": []
  },
  {
   "cell_type": "raw",
   "id": "ede7a4fe",
   "metadata": {},
   "source": []
  },
  {
   "cell_type": "raw",
   "id": "4436b0c1",
   "metadata": {},
   "source": []
  },
  {
   "cell_type": "raw",
   "id": "43d51af1",
   "metadata": {},
   "source": []
  },
  {
   "cell_type": "raw",
   "id": "c349c954",
   "metadata": {},
   "source": []
  },
  {
   "cell_type": "raw",
   "id": "02db9d8f",
   "metadata": {},
   "source": []
  },
  {
   "cell_type": "raw",
   "id": "3bb4a7a4",
   "metadata": {},
   "source": []
  },
  {
   "cell_type": "raw",
   "id": "cee38006",
   "metadata": {},
   "source": []
  },
  {
   "cell_type": "raw",
   "id": "f5eaa579",
   "metadata": {},
   "source": []
  },
  {
   "cell_type": "raw",
   "id": "2a069b19",
   "metadata": {},
   "source": []
  },
  {
   "cell_type": "raw",
   "id": "370e6f13",
   "metadata": {},
   "source": []
  },
  {
   "cell_type": "raw",
   "id": "da784b68",
   "metadata": {},
   "source": []
  },
  {
   "cell_type": "raw",
   "id": "9d2c5ecb",
   "metadata": {},
   "source": []
  },
  {
   "cell_type": "raw",
   "id": "0542c0da",
   "metadata": {},
   "source": []
  },
  {
   "cell_type": "raw",
   "id": "70fae43a",
   "metadata": {},
   "source": []
  },
  {
   "cell_type": "raw",
   "id": "e1fb5942",
   "metadata": {},
   "source": []
  },
  {
   "cell_type": "raw",
   "id": "c03438c7",
   "metadata": {},
   "source": []
  },
  {
   "cell_type": "raw",
   "id": "7b65d94e",
   "metadata": {},
   "source": []
  },
  {
   "cell_type": "raw",
   "id": "180b75af",
   "metadata": {},
   "source": []
  },
  {
   "cell_type": "raw",
   "id": "8191755a",
   "metadata": {},
   "source": []
  },
  {
   "cell_type": "raw",
   "id": "2ba6e55e",
   "metadata": {},
   "source": []
  },
  {
   "cell_type": "raw",
   "id": "a6b9d05a",
   "metadata": {},
   "source": []
  },
  {
   "cell_type": "raw",
   "id": "6b9aaa1b",
   "metadata": {},
   "source": []
  },
  {
   "cell_type": "raw",
   "id": "87b34f62",
   "metadata": {},
   "source": []
  },
  {
   "cell_type": "raw",
   "id": "55ac3aa5",
   "metadata": {},
   "source": []
  },
  {
   "cell_type": "raw",
   "id": "08ed6f24",
   "metadata": {},
   "source": []
  },
  {
   "cell_type": "raw",
   "id": "f96a22e2",
   "metadata": {},
   "source": []
  },
  {
   "cell_type": "raw",
   "id": "7880ce5e",
   "metadata": {},
   "source": []
  },
  {
   "cell_type": "raw",
   "id": "5fdccf27",
   "metadata": {},
   "source": []
  },
  {
   "cell_type": "raw",
   "id": "c9c126ee",
   "metadata": {},
   "source": []
  },
  {
   "cell_type": "raw",
   "id": "ffb3e2c7",
   "metadata": {},
   "source": []
  },
  {
   "cell_type": "raw",
   "id": "4c132291",
   "metadata": {},
   "source": []
  },
  {
   "cell_type": "raw",
   "id": "162c1817",
   "metadata": {},
   "source": []
  },
  {
   "cell_type": "raw",
   "id": "e9dd265e",
   "metadata": {},
   "source": []
  },
  {
   "cell_type": "raw",
   "id": "d0dcdffd",
   "metadata": {},
   "source": []
  },
  {
   "cell_type": "raw",
   "id": "63c8597d",
   "metadata": {},
   "source": []
  },
  {
   "cell_type": "raw",
   "id": "e360fb93",
   "metadata": {},
   "source": []
  },
  {
   "cell_type": "raw",
   "id": "4004e583",
   "metadata": {},
   "source": []
  },
  {
   "cell_type": "raw",
   "id": "1fdb7f1f",
   "metadata": {},
   "source": []
  },
  {
   "cell_type": "raw",
   "id": "a1a38c81",
   "metadata": {},
   "source": []
  },
  {
   "cell_type": "raw",
   "id": "b3696f5d",
   "metadata": {},
   "source": []
  },
  {
   "cell_type": "raw",
   "id": "0140a544",
   "metadata": {},
   "source": []
  },
  {
   "cell_type": "raw",
   "id": "da71d266",
   "metadata": {},
   "source": []
  },
  {
   "cell_type": "raw",
   "id": "4c64071f",
   "metadata": {},
   "source": []
  },
  {
   "cell_type": "raw",
   "id": "db8a4982",
   "metadata": {},
   "source": []
  },
  {
   "cell_type": "raw",
   "id": "959fcb05",
   "metadata": {},
   "source": []
  },
  {
   "cell_type": "raw",
   "id": "dde70589",
   "metadata": {},
   "source": []
  },
  {
   "cell_type": "raw",
   "id": "bc712766",
   "metadata": {},
   "source": []
  },
  {
   "cell_type": "raw",
   "id": "d275f0b6",
   "metadata": {},
   "source": []
  },
  {
   "cell_type": "raw",
   "id": "a020a93a",
   "metadata": {},
   "source": []
  },
  {
   "cell_type": "raw",
   "id": "bed933ee",
   "metadata": {},
   "source": []
  },
  {
   "cell_type": "raw",
   "id": "a20bbda5",
   "metadata": {},
   "source": []
  },
  {
   "cell_type": "raw",
   "id": "3533e43b",
   "metadata": {},
   "source": []
  },
  {
   "cell_type": "raw",
   "id": "50a098bb",
   "metadata": {},
   "source": []
  },
  {
   "cell_type": "raw",
   "id": "17808337",
   "metadata": {},
   "source": []
  },
  {
   "cell_type": "raw",
   "id": "1912025a",
   "metadata": {},
   "source": []
  },
  {
   "cell_type": "raw",
   "id": "aa225581",
   "metadata": {},
   "source": []
  },
  {
   "cell_type": "raw",
   "id": "ae11985b",
   "metadata": {},
   "source": []
  },
  {
   "cell_type": "raw",
   "id": "8e30ea94",
   "metadata": {},
   "source": []
  },
  {
   "cell_type": "raw",
   "id": "2811aa48",
   "metadata": {},
   "source": []
  },
  {
   "cell_type": "raw",
   "id": "923756b8",
   "metadata": {},
   "source": []
  },
  {
   "cell_type": "raw",
   "id": "b60648a1",
   "metadata": {},
   "source": []
  },
  {
   "cell_type": "raw",
   "id": "83891632",
   "metadata": {},
   "source": []
  },
  {
   "cell_type": "raw",
   "id": "7cc70ce5",
   "metadata": {},
   "source": []
  },
  {
   "cell_type": "raw",
   "id": "8dcfe37f",
   "metadata": {},
   "source": []
  },
  {
   "cell_type": "raw",
   "id": "ad57d9a9",
   "metadata": {},
   "source": []
  },
  {
   "cell_type": "raw",
   "id": "602941d7",
   "metadata": {},
   "source": []
  },
  {
   "cell_type": "raw",
   "id": "809baa81",
   "metadata": {},
   "source": []
  },
  {
   "cell_type": "raw",
   "id": "7adc116f",
   "metadata": {},
   "source": []
  },
  {
   "cell_type": "raw",
   "id": "cb270242",
   "metadata": {},
   "source": []
  },
  {
   "cell_type": "raw",
   "id": "5947f2c5",
   "metadata": {},
   "source": []
  },
  {
   "cell_type": "raw",
   "id": "88c38b2c",
   "metadata": {},
   "source": []
  },
  {
   "cell_type": "raw",
   "id": "97860f3c",
   "metadata": {},
   "source": []
  },
  {
   "cell_type": "raw",
   "id": "abe734f3",
   "metadata": {},
   "source": []
  },
  {
   "cell_type": "raw",
   "id": "e3d721f7",
   "metadata": {},
   "source": []
  },
  {
   "cell_type": "raw",
   "id": "a35ef34c",
   "metadata": {},
   "source": []
  },
  {
   "cell_type": "raw",
   "id": "b3c6c8d3",
   "metadata": {},
   "source": []
  },
  {
   "cell_type": "raw",
   "id": "6dec9790",
   "metadata": {},
   "source": []
  },
  {
   "cell_type": "raw",
   "id": "cd637ae4",
   "metadata": {},
   "source": []
  },
  {
   "cell_type": "raw",
   "id": "809ece74",
   "metadata": {},
   "source": []
  },
  {
   "cell_type": "raw",
   "id": "b34f24a8",
   "metadata": {},
   "source": []
  },
  {
   "cell_type": "raw",
   "id": "590ff778",
   "metadata": {},
   "source": []
  },
  {
   "cell_type": "raw",
   "id": "b70888ea",
   "metadata": {},
   "source": []
  },
  {
   "cell_type": "raw",
   "id": "e25cf2a2",
   "metadata": {},
   "source": []
  },
  {
   "cell_type": "raw",
   "id": "469d010d",
   "metadata": {},
   "source": []
  },
  {
   "cell_type": "raw",
   "id": "6d4b0b39",
   "metadata": {},
   "source": []
  },
  {
   "cell_type": "raw",
   "id": "e93204a2",
   "metadata": {},
   "source": []
  },
  {
   "cell_type": "raw",
   "id": "2bbe6312",
   "metadata": {},
   "source": []
  },
  {
   "cell_type": "raw",
   "id": "387cc73d",
   "metadata": {},
   "source": []
  },
  {
   "cell_type": "raw",
   "id": "fcb7666c",
   "metadata": {},
   "source": []
  },
  {
   "cell_type": "raw",
   "id": "2404f894",
   "metadata": {},
   "source": []
  },
  {
   "cell_type": "raw",
   "id": "7590525c",
   "metadata": {},
   "source": []
  },
  {
   "cell_type": "raw",
   "id": "da5dfd4f",
   "metadata": {},
   "source": []
  },
  {
   "cell_type": "raw",
   "id": "1e3db762",
   "metadata": {},
   "source": []
  },
  {
   "cell_type": "raw",
   "id": "b57966c6",
   "metadata": {},
   "source": []
  },
  {
   "cell_type": "raw",
   "id": "2d547ce6",
   "metadata": {},
   "source": []
  },
  {
   "cell_type": "raw",
   "id": "99839ca7",
   "metadata": {},
   "source": []
  },
  {
   "cell_type": "raw",
   "id": "dd018f97",
   "metadata": {},
   "source": []
  },
  {
   "cell_type": "raw",
   "id": "a4caac79",
   "metadata": {},
   "source": []
  },
  {
   "cell_type": "raw",
   "id": "01f8dc7c",
   "metadata": {},
   "source": []
  },
  {
   "cell_type": "raw",
   "id": "ee83ee0d",
   "metadata": {},
   "source": []
  },
  {
   "cell_type": "raw",
   "id": "3cde02fa",
   "metadata": {},
   "source": []
  },
  {
   "cell_type": "raw",
   "id": "ee5f56bc",
   "metadata": {},
   "source": []
  },
  {
   "cell_type": "raw",
   "id": "26bf66cf",
   "metadata": {},
   "source": []
  },
  {
   "cell_type": "raw",
   "id": "dd0361fa",
   "metadata": {},
   "source": []
  },
  {
   "cell_type": "raw",
   "id": "52cd5bfb",
   "metadata": {},
   "source": []
  },
  {
   "cell_type": "raw",
   "id": "3d9bad37",
   "metadata": {},
   "source": []
  },
  {
   "cell_type": "raw",
   "id": "836fad7b",
   "metadata": {},
   "source": []
  },
  {
   "cell_type": "raw",
   "id": "dc033f65",
   "metadata": {},
   "source": []
  },
  {
   "cell_type": "raw",
   "id": "d5551d17",
   "metadata": {},
   "source": []
  },
  {
   "cell_type": "raw",
   "id": "5c31b3a8",
   "metadata": {},
   "source": []
  },
  {
   "cell_type": "raw",
   "id": "5778b661",
   "metadata": {},
   "source": []
  },
  {
   "cell_type": "raw",
   "id": "1ec1b4fc",
   "metadata": {},
   "source": []
  },
  {
   "cell_type": "raw",
   "id": "dc22012d",
   "metadata": {},
   "source": []
  },
  {
   "cell_type": "raw",
   "id": "c1abd15a",
   "metadata": {},
   "source": []
  },
  {
   "cell_type": "raw",
   "id": "be912573",
   "metadata": {},
   "source": []
  },
  {
   "cell_type": "raw",
   "id": "9709e0a3",
   "metadata": {},
   "source": []
  },
  {
   "cell_type": "raw",
   "id": "79979714",
   "metadata": {},
   "source": []
  },
  {
   "cell_type": "raw",
   "id": "b9e4cf7f",
   "metadata": {},
   "source": []
  },
  {
   "cell_type": "raw",
   "id": "975b2be4",
   "metadata": {},
   "source": []
  },
  {
   "cell_type": "raw",
   "id": "e9cf2b3d",
   "metadata": {},
   "source": []
  },
  {
   "cell_type": "raw",
   "id": "063d310c",
   "metadata": {},
   "source": []
  },
  {
   "cell_type": "raw",
   "id": "a70230d3",
   "metadata": {},
   "source": []
  },
  {
   "cell_type": "raw",
   "id": "6e6fea86",
   "metadata": {},
   "source": []
  },
  {
   "cell_type": "raw",
   "id": "b7b397bc",
   "metadata": {},
   "source": []
  },
  {
   "cell_type": "raw",
   "id": "83e64e9c",
   "metadata": {},
   "source": []
  },
  {
   "cell_type": "raw",
   "id": "d4d630cc",
   "metadata": {},
   "source": []
  },
  {
   "cell_type": "raw",
   "id": "91aecff0",
   "metadata": {},
   "source": []
  },
  {
   "cell_type": "raw",
   "id": "fe5a24d9",
   "metadata": {},
   "source": []
  },
  {
   "cell_type": "raw",
   "id": "63ef72b4",
   "metadata": {},
   "source": []
  },
  {
   "cell_type": "raw",
   "id": "2fea754e",
   "metadata": {},
   "source": []
  },
  {
   "cell_type": "raw",
   "id": "542a13f4",
   "metadata": {},
   "source": []
  },
  {
   "cell_type": "raw",
   "id": "80bec3a9",
   "metadata": {},
   "source": []
  },
  {
   "cell_type": "raw",
   "id": "8c510a4f",
   "metadata": {},
   "source": []
  },
  {
   "cell_type": "raw",
   "id": "795b2f94",
   "metadata": {},
   "source": []
  },
  {
   "cell_type": "raw",
   "id": "cf540730",
   "metadata": {},
   "source": []
  },
  {
   "cell_type": "raw",
   "id": "585a107e",
   "metadata": {},
   "source": []
  },
  {
   "cell_type": "raw",
   "id": "9e6e7b76",
   "metadata": {},
   "source": []
  },
  {
   "cell_type": "raw",
   "id": "a0c3ed70",
   "metadata": {},
   "source": []
  },
  {
   "cell_type": "raw",
   "id": "87a48bd0",
   "metadata": {},
   "source": []
  },
  {
   "cell_type": "raw",
   "id": "fb1a3d37",
   "metadata": {},
   "source": []
  },
  {
   "cell_type": "raw",
   "id": "b981edea",
   "metadata": {},
   "source": []
  },
  {
   "cell_type": "raw",
   "id": "21164246",
   "metadata": {},
   "source": []
  },
  {
   "cell_type": "raw",
   "id": "8b7af6d6",
   "metadata": {},
   "source": []
  },
  {
   "cell_type": "raw",
   "id": "e0410cc3",
   "metadata": {},
   "source": []
  },
  {
   "cell_type": "raw",
   "id": "7bf7cb0b",
   "metadata": {},
   "source": []
  },
  {
   "cell_type": "raw",
   "id": "bd3d6497",
   "metadata": {},
   "source": []
  },
  {
   "cell_type": "raw",
   "id": "e15ce3b3",
   "metadata": {},
   "source": []
  },
  {
   "cell_type": "raw",
   "id": "9fb67ee7",
   "metadata": {},
   "source": []
  },
  {
   "cell_type": "raw",
   "id": "deb483c7",
   "metadata": {},
   "source": []
  },
  {
   "cell_type": "raw",
   "id": "c4afac16",
   "metadata": {},
   "source": []
  },
  {
   "cell_type": "raw",
   "id": "10ca38e1",
   "metadata": {},
   "source": []
  },
  {
   "cell_type": "raw",
   "id": "096a24df",
   "metadata": {},
   "source": []
  },
  {
   "cell_type": "raw",
   "id": "1efa820e",
   "metadata": {},
   "source": []
  },
  {
   "cell_type": "raw",
   "id": "2a015f4d",
   "metadata": {},
   "source": []
  },
  {
   "cell_type": "raw",
   "id": "d91bde32",
   "metadata": {},
   "source": []
  },
  {
   "cell_type": "raw",
   "id": "cb198e0c",
   "metadata": {},
   "source": []
  },
  {
   "cell_type": "raw",
   "id": "47b39c43",
   "metadata": {},
   "source": []
  },
  {
   "cell_type": "raw",
   "id": "84a821bf",
   "metadata": {},
   "source": []
  },
  {
   "cell_type": "raw",
   "id": "467c41b4",
   "metadata": {},
   "source": []
  },
  {
   "cell_type": "raw",
   "id": "be59fba3",
   "metadata": {},
   "source": []
  },
  {
   "cell_type": "raw",
   "id": "9fa615b5",
   "metadata": {},
   "source": []
  },
  {
   "cell_type": "raw",
   "id": "d1301e6b",
   "metadata": {},
   "source": []
  },
  {
   "cell_type": "raw",
   "id": "c9253e4a",
   "metadata": {},
   "source": []
  },
  {
   "cell_type": "raw",
   "id": "06599128",
   "metadata": {},
   "source": []
  },
  {
   "cell_type": "raw",
   "id": "c3b5271e",
   "metadata": {},
   "source": []
  },
  {
   "cell_type": "raw",
   "id": "fc1557b2",
   "metadata": {},
   "source": []
  },
  {
   "cell_type": "raw",
   "id": "1bda37f6",
   "metadata": {},
   "source": []
  },
  {
   "cell_type": "raw",
   "id": "4df5b803",
   "metadata": {},
   "source": []
  },
  {
   "cell_type": "raw",
   "id": "0f8d7c6c",
   "metadata": {},
   "source": []
  },
  {
   "cell_type": "raw",
   "id": "df100feb",
   "metadata": {},
   "source": []
  },
  {
   "cell_type": "raw",
   "id": "1ebfb46b",
   "metadata": {},
   "source": []
  },
  {
   "cell_type": "raw",
   "id": "82f42838",
   "metadata": {},
   "source": []
  },
  {
   "cell_type": "raw",
   "id": "dbdf1b21",
   "metadata": {},
   "source": []
  },
  {
   "cell_type": "raw",
   "id": "ee25a3cf",
   "metadata": {},
   "source": []
  },
  {
   "cell_type": "raw",
   "id": "ed4385ff",
   "metadata": {},
   "source": []
  },
  {
   "cell_type": "raw",
   "id": "72a0f7eb",
   "metadata": {},
   "source": []
  },
  {
   "cell_type": "raw",
   "id": "ea093592",
   "metadata": {},
   "source": []
  },
  {
   "cell_type": "raw",
   "id": "68d3e7f4",
   "metadata": {},
   "source": []
  },
  {
   "cell_type": "raw",
   "id": "dda00cfc",
   "metadata": {},
   "source": []
  },
  {
   "cell_type": "raw",
   "id": "114ed709",
   "metadata": {},
   "source": []
  },
  {
   "cell_type": "raw",
   "id": "698c84c1",
   "metadata": {},
   "source": []
  },
  {
   "cell_type": "raw",
   "id": "2f752ef4",
   "metadata": {},
   "source": []
  },
  {
   "cell_type": "raw",
   "id": "1eb8c21d",
   "metadata": {},
   "source": []
  },
  {
   "cell_type": "raw",
   "id": "159611f1",
   "metadata": {},
   "source": []
  },
  {
   "cell_type": "raw",
   "id": "1a4a6d17",
   "metadata": {},
   "source": []
  },
  {
   "cell_type": "raw",
   "id": "cabe7973",
   "metadata": {},
   "source": []
  },
  {
   "cell_type": "raw",
   "id": "bcad97e8",
   "metadata": {},
   "source": []
  },
  {
   "cell_type": "raw",
   "id": "8f8a8c48",
   "metadata": {},
   "source": []
  },
  {
   "cell_type": "raw",
   "id": "4ff1f790",
   "metadata": {},
   "source": []
  },
  {
   "cell_type": "raw",
   "id": "9e512ec5",
   "metadata": {},
   "source": []
  },
  {
   "cell_type": "raw",
   "id": "68b363fe",
   "metadata": {},
   "source": []
  },
  {
   "cell_type": "raw",
   "id": "939e335e",
   "metadata": {},
   "source": []
  },
  {
   "cell_type": "raw",
   "id": "54aa218b",
   "metadata": {},
   "source": []
  },
  {
   "cell_type": "raw",
   "id": "2f141f3a",
   "metadata": {},
   "source": []
  },
  {
   "cell_type": "raw",
   "id": "806c0817",
   "metadata": {},
   "source": []
  },
  {
   "cell_type": "raw",
   "id": "4f7d46f9",
   "metadata": {},
   "source": []
  },
  {
   "cell_type": "raw",
   "id": "657e7fd7",
   "metadata": {},
   "source": []
  },
  {
   "cell_type": "raw",
   "id": "d6c7369e",
   "metadata": {},
   "source": []
  },
  {
   "cell_type": "raw",
   "id": "b6846bde",
   "metadata": {},
   "source": []
  },
  {
   "cell_type": "raw",
   "id": "2e56d23c",
   "metadata": {},
   "source": []
  },
  {
   "cell_type": "raw",
   "id": "64486c44",
   "metadata": {},
   "source": []
  },
  {
   "cell_type": "raw",
   "id": "77f787c1",
   "metadata": {},
   "source": []
  },
  {
   "cell_type": "raw",
   "id": "f6a089a3",
   "metadata": {},
   "source": []
  },
  {
   "cell_type": "raw",
   "id": "773b5fa4",
   "metadata": {},
   "source": []
  },
  {
   "cell_type": "raw",
   "id": "12795a37",
   "metadata": {},
   "source": []
  },
  {
   "cell_type": "raw",
   "id": "08dea527",
   "metadata": {},
   "source": []
  },
  {
   "cell_type": "raw",
   "id": "e1f30f76",
   "metadata": {},
   "source": []
  },
  {
   "cell_type": "raw",
   "id": "3f17f782",
   "metadata": {},
   "source": []
  },
  {
   "cell_type": "raw",
   "id": "c7da41a3",
   "metadata": {},
   "source": []
  },
  {
   "cell_type": "raw",
   "id": "028a4c24",
   "metadata": {},
   "source": []
  },
  {
   "cell_type": "raw",
   "id": "0c0dbfd5",
   "metadata": {},
   "source": []
  },
  {
   "cell_type": "raw",
   "id": "89b5842b",
   "metadata": {},
   "source": []
  },
  {
   "cell_type": "raw",
   "id": "496f2d7d",
   "metadata": {},
   "source": []
  },
  {
   "cell_type": "raw",
   "id": "c28b2cfa",
   "metadata": {},
   "source": []
  },
  {
   "cell_type": "raw",
   "id": "3ce35c09",
   "metadata": {},
   "source": []
  },
  {
   "cell_type": "raw",
   "id": "e5c32660",
   "metadata": {},
   "source": []
  },
  {
   "cell_type": "raw",
   "id": "a6d52f29",
   "metadata": {},
   "source": []
  },
  {
   "cell_type": "raw",
   "id": "96ec6bc3",
   "metadata": {},
   "source": []
  },
  {
   "cell_type": "raw",
   "id": "6bab4cae",
   "metadata": {},
   "source": []
  },
  {
   "cell_type": "raw",
   "id": "5a8ef65b",
   "metadata": {},
   "source": []
  },
  {
   "cell_type": "raw",
   "id": "32b0e552",
   "metadata": {},
   "source": []
  },
  {
   "cell_type": "raw",
   "id": "be43201e",
   "metadata": {},
   "source": []
  },
  {
   "cell_type": "raw",
   "id": "9b5248d5",
   "metadata": {},
   "source": []
  },
  {
   "cell_type": "raw",
   "id": "3d0d934c",
   "metadata": {},
   "source": []
  },
  {
   "cell_type": "raw",
   "id": "b4568c59",
   "metadata": {},
   "source": []
  },
  {
   "cell_type": "raw",
   "id": "4e469c62",
   "metadata": {},
   "source": []
  },
  {
   "cell_type": "raw",
   "id": "b8e7b1d5",
   "metadata": {},
   "source": []
  },
  {
   "cell_type": "raw",
   "id": "5f2dd455",
   "metadata": {},
   "source": []
  },
  {
   "cell_type": "raw",
   "id": "fd70a0d7",
   "metadata": {},
   "source": []
  },
  {
   "cell_type": "raw",
   "id": "76dc2c72",
   "metadata": {},
   "source": []
  },
  {
   "cell_type": "raw",
   "id": "b7bff41c",
   "metadata": {},
   "source": []
  },
  {
   "cell_type": "raw",
   "id": "0d62ac9e",
   "metadata": {},
   "source": []
  },
  {
   "cell_type": "raw",
   "id": "6110b465",
   "metadata": {},
   "source": []
  },
  {
   "cell_type": "raw",
   "id": "858ed0e4",
   "metadata": {},
   "source": []
  },
  {
   "cell_type": "raw",
   "id": "94b5718e",
   "metadata": {},
   "source": []
  },
  {
   "cell_type": "raw",
   "id": "82a726d1",
   "metadata": {},
   "source": []
  },
  {
   "cell_type": "raw",
   "id": "682bf51d",
   "metadata": {},
   "source": []
  },
  {
   "cell_type": "raw",
   "id": "2e0c0e20",
   "metadata": {},
   "source": []
  },
  {
   "cell_type": "raw",
   "id": "5bec3a12",
   "metadata": {},
   "source": []
  },
  {
   "cell_type": "raw",
   "id": "35c0246d",
   "metadata": {},
   "source": []
  },
  {
   "cell_type": "raw",
   "id": "c60a6a59",
   "metadata": {},
   "source": []
  },
  {
   "cell_type": "raw",
   "id": "f52922ec",
   "metadata": {},
   "source": []
  },
  {
   "cell_type": "raw",
   "id": "b3c4e044",
   "metadata": {},
   "source": []
  },
  {
   "cell_type": "raw",
   "id": "0bb91d95",
   "metadata": {},
   "source": []
  },
  {
   "cell_type": "raw",
   "id": "c2c15ecb",
   "metadata": {},
   "source": []
  },
  {
   "cell_type": "raw",
   "id": "2d766fb5",
   "metadata": {},
   "source": []
  },
  {
   "cell_type": "raw",
   "id": "a7825281",
   "metadata": {},
   "source": []
  },
  {
   "cell_type": "raw",
   "id": "67903415",
   "metadata": {},
   "source": []
  },
  {
   "cell_type": "raw",
   "id": "67fb1fee",
   "metadata": {},
   "source": []
  },
  {
   "cell_type": "raw",
   "id": "ad40cd26",
   "metadata": {},
   "source": []
  },
  {
   "cell_type": "raw",
   "id": "1cbeaec0",
   "metadata": {},
   "source": []
  },
  {
   "cell_type": "raw",
   "id": "4e714e14",
   "metadata": {},
   "source": []
  },
  {
   "cell_type": "raw",
   "id": "889431e1",
   "metadata": {},
   "source": []
  },
  {
   "cell_type": "raw",
   "id": "12161fbb",
   "metadata": {},
   "source": []
  },
  {
   "cell_type": "raw",
   "id": "e5abd76d",
   "metadata": {},
   "source": []
  },
  {
   "cell_type": "raw",
   "id": "d87864a0",
   "metadata": {},
   "source": []
  },
  {
   "cell_type": "raw",
   "id": "3095ce63",
   "metadata": {},
   "source": []
  },
  {
   "cell_type": "raw",
   "id": "a89b2720",
   "metadata": {},
   "source": []
  },
  {
   "cell_type": "raw",
   "id": "e1ed3ea4",
   "metadata": {},
   "source": []
  },
  {
   "cell_type": "raw",
   "id": "98ee95b2",
   "metadata": {},
   "source": []
  },
  {
   "cell_type": "raw",
   "id": "a6e88980",
   "metadata": {},
   "source": []
  },
  {
   "cell_type": "raw",
   "id": "1825d6c7",
   "metadata": {},
   "source": []
  },
  {
   "cell_type": "raw",
   "id": "38bb3703",
   "metadata": {},
   "source": []
  },
  {
   "cell_type": "raw",
   "id": "d94c8b75",
   "metadata": {},
   "source": []
  },
  {
   "cell_type": "raw",
   "id": "8fa3daa2",
   "metadata": {},
   "source": []
  },
  {
   "cell_type": "raw",
   "id": "f54cdecf",
   "metadata": {},
   "source": []
  },
  {
   "cell_type": "raw",
   "id": "0cf9d537",
   "metadata": {},
   "source": []
  },
  {
   "cell_type": "raw",
   "id": "65291515",
   "metadata": {},
   "source": []
  },
  {
   "cell_type": "raw",
   "id": "69b7918d",
   "metadata": {},
   "source": []
  },
  {
   "cell_type": "raw",
   "id": "1447943b",
   "metadata": {},
   "source": []
  },
  {
   "cell_type": "raw",
   "id": "8229c5aa",
   "metadata": {},
   "source": []
  },
  {
   "cell_type": "raw",
   "id": "937e1090",
   "metadata": {},
   "source": []
  },
  {
   "cell_type": "raw",
   "id": "29ea1e47",
   "metadata": {},
   "source": []
  },
  {
   "cell_type": "raw",
   "id": "98bf2e84",
   "metadata": {},
   "source": []
  },
  {
   "cell_type": "raw",
   "id": "dfaebbec",
   "metadata": {},
   "source": []
  },
  {
   "cell_type": "raw",
   "id": "99597b75",
   "metadata": {},
   "source": []
  },
  {
   "cell_type": "raw",
   "id": "faf54de2",
   "metadata": {},
   "source": []
  },
  {
   "cell_type": "raw",
   "id": "b101f3d1",
   "metadata": {},
   "source": []
  },
  {
   "cell_type": "raw",
   "id": "474f6af7",
   "metadata": {},
   "source": []
  },
  {
   "cell_type": "raw",
   "id": "8856e5f9",
   "metadata": {},
   "source": []
  },
  {
   "cell_type": "raw",
   "id": "d84fc9d2",
   "metadata": {},
   "source": []
  },
  {
   "cell_type": "raw",
   "id": "3514ed70",
   "metadata": {},
   "source": []
  },
  {
   "cell_type": "raw",
   "id": "a73d7dc5",
   "metadata": {},
   "source": []
  },
  {
   "cell_type": "raw",
   "id": "4d925067",
   "metadata": {},
   "source": []
  },
  {
   "cell_type": "raw",
   "id": "4b0ce994",
   "metadata": {},
   "source": []
  },
  {
   "cell_type": "raw",
   "id": "2ffec772",
   "metadata": {},
   "source": []
  },
  {
   "cell_type": "raw",
   "id": "88cafb7f",
   "metadata": {},
   "source": []
  },
  {
   "cell_type": "raw",
   "id": "96977e93",
   "metadata": {},
   "source": []
  },
  {
   "cell_type": "raw",
   "id": "8b8c85a8",
   "metadata": {},
   "source": []
  },
  {
   "cell_type": "raw",
   "id": "56b05e47",
   "metadata": {},
   "source": []
  },
  {
   "cell_type": "raw",
   "id": "1866e23b",
   "metadata": {},
   "source": []
  },
  {
   "cell_type": "raw",
   "id": "ef1b0694",
   "metadata": {},
   "source": []
  },
  {
   "cell_type": "raw",
   "id": "1bd95f7a",
   "metadata": {},
   "source": []
  },
  {
   "cell_type": "raw",
   "id": "7a71fa7a",
   "metadata": {},
   "source": []
  },
  {
   "cell_type": "raw",
   "id": "ab87fb92",
   "metadata": {},
   "source": []
  },
  {
   "cell_type": "raw",
   "id": "05ba8d2b",
   "metadata": {},
   "source": []
  },
  {
   "cell_type": "raw",
   "id": "90eba2e9",
   "metadata": {},
   "source": []
  },
  {
   "cell_type": "raw",
   "id": "5773ea1c",
   "metadata": {},
   "source": []
  },
  {
   "cell_type": "raw",
   "id": "06570024",
   "metadata": {},
   "source": []
  },
  {
   "cell_type": "raw",
   "id": "6ed58dd4",
   "metadata": {},
   "source": []
  },
  {
   "cell_type": "raw",
   "id": "4a5f0ab0",
   "metadata": {},
   "source": []
  },
  {
   "cell_type": "raw",
   "id": "fb8c187c",
   "metadata": {},
   "source": []
  },
  {
   "cell_type": "raw",
   "id": "ee51fd0f",
   "metadata": {},
   "source": []
  },
  {
   "cell_type": "raw",
   "id": "74dc01c8",
   "metadata": {},
   "source": []
  },
  {
   "cell_type": "raw",
   "id": "d28eeeb2",
   "metadata": {},
   "source": []
  },
  {
   "cell_type": "raw",
   "id": "b876949d",
   "metadata": {},
   "source": []
  },
  {
   "cell_type": "raw",
   "id": "fe820346",
   "metadata": {},
   "source": []
  },
  {
   "cell_type": "raw",
   "id": "e312963b",
   "metadata": {},
   "source": []
  },
  {
   "cell_type": "raw",
   "id": "43a55ecb",
   "metadata": {},
   "source": []
  },
  {
   "cell_type": "raw",
   "id": "a9c27c38",
   "metadata": {},
   "source": []
  },
  {
   "cell_type": "raw",
   "id": "67350f3b",
   "metadata": {},
   "source": []
  },
  {
   "cell_type": "raw",
   "id": "3876d393",
   "metadata": {},
   "source": []
  },
  {
   "cell_type": "raw",
   "id": "1b2c5d27",
   "metadata": {},
   "source": []
  },
  {
   "cell_type": "raw",
   "id": "379b947c",
   "metadata": {},
   "source": []
  },
  {
   "cell_type": "raw",
   "id": "4f7262e5",
   "metadata": {},
   "source": []
  },
  {
   "cell_type": "raw",
   "id": "8cf42d3b",
   "metadata": {},
   "source": []
  },
  {
   "cell_type": "raw",
   "id": "fcc36ea2",
   "metadata": {},
   "source": []
  },
  {
   "cell_type": "raw",
   "id": "699638c1",
   "metadata": {},
   "source": []
  },
  {
   "cell_type": "raw",
   "id": "28abb631",
   "metadata": {},
   "source": []
  },
  {
   "cell_type": "raw",
   "id": "f40f1f96",
   "metadata": {},
   "source": []
  },
  {
   "cell_type": "raw",
   "id": "490609ad",
   "metadata": {},
   "source": []
  },
  {
   "cell_type": "raw",
   "id": "e82a91b9",
   "metadata": {},
   "source": []
  },
  {
   "cell_type": "raw",
   "id": "20f96380",
   "metadata": {},
   "source": []
  },
  {
   "cell_type": "raw",
   "id": "e51ca486",
   "metadata": {},
   "source": []
  },
  {
   "cell_type": "raw",
   "id": "ef807109",
   "metadata": {},
   "source": []
  },
  {
   "cell_type": "raw",
   "id": "64ebcbe5",
   "metadata": {},
   "source": []
  },
  {
   "cell_type": "raw",
   "id": "d1756c99",
   "metadata": {},
   "source": []
  },
  {
   "cell_type": "raw",
   "id": "84829b77",
   "metadata": {},
   "source": []
  },
  {
   "cell_type": "raw",
   "id": "a007530f",
   "metadata": {},
   "source": []
  },
  {
   "cell_type": "raw",
   "id": "378b7953",
   "metadata": {},
   "source": []
  },
  {
   "cell_type": "raw",
   "id": "7cc30830",
   "metadata": {},
   "source": []
  },
  {
   "cell_type": "raw",
   "id": "32dc17f9",
   "metadata": {},
   "source": []
  },
  {
   "cell_type": "raw",
   "id": "71c3064d",
   "metadata": {},
   "source": []
  },
  {
   "cell_type": "raw",
   "id": "8b38b993",
   "metadata": {},
   "source": []
  },
  {
   "cell_type": "raw",
   "id": "95a8c555",
   "metadata": {},
   "source": []
  },
  {
   "cell_type": "raw",
   "id": "bccf5bd7",
   "metadata": {},
   "source": []
  },
  {
   "cell_type": "raw",
   "id": "69b5fa08",
   "metadata": {},
   "source": []
  },
  {
   "cell_type": "raw",
   "id": "a9524cee",
   "metadata": {},
   "source": []
  },
  {
   "cell_type": "raw",
   "id": "dabd741a",
   "metadata": {},
   "source": []
  },
  {
   "cell_type": "raw",
   "id": "16ded2a1",
   "metadata": {},
   "source": []
  },
  {
   "cell_type": "raw",
   "id": "d23a137d",
   "metadata": {},
   "source": []
  },
  {
   "cell_type": "raw",
   "id": "82fc50b8",
   "metadata": {},
   "source": []
  },
  {
   "cell_type": "raw",
   "id": "e59d7079",
   "metadata": {},
   "source": []
  },
  {
   "cell_type": "raw",
   "id": "1b01c748",
   "metadata": {},
   "source": []
  },
  {
   "cell_type": "raw",
   "id": "7d18a21c",
   "metadata": {},
   "source": []
  },
  {
   "cell_type": "raw",
   "id": "2dd49af7",
   "metadata": {},
   "source": []
  },
  {
   "cell_type": "raw",
   "id": "b161b941",
   "metadata": {},
   "source": []
  },
  {
   "cell_type": "raw",
   "id": "524d35fc",
   "metadata": {},
   "source": []
  },
  {
   "cell_type": "raw",
   "id": "724ece37",
   "metadata": {},
   "source": []
  },
  {
   "cell_type": "raw",
   "id": "45929c4d",
   "metadata": {},
   "source": []
  },
  {
   "cell_type": "raw",
   "id": "2c4d03fd",
   "metadata": {},
   "source": []
  },
  {
   "cell_type": "raw",
   "id": "32c1b393",
   "metadata": {},
   "source": []
  },
  {
   "cell_type": "raw",
   "id": "df9dd51e",
   "metadata": {},
   "source": []
  },
  {
   "cell_type": "raw",
   "id": "9c4d6b6c",
   "metadata": {},
   "source": []
  },
  {
   "cell_type": "raw",
   "id": "8e776718",
   "metadata": {},
   "source": []
  },
  {
   "cell_type": "raw",
   "id": "dc603884",
   "metadata": {},
   "source": []
  },
  {
   "cell_type": "raw",
   "id": "62ac9c3d",
   "metadata": {},
   "source": []
  },
  {
   "cell_type": "raw",
   "id": "253fb8e8",
   "metadata": {},
   "source": []
  },
  {
   "cell_type": "raw",
   "id": "279cbab6",
   "metadata": {},
   "source": []
  },
  {
   "cell_type": "raw",
   "id": "d4d32669",
   "metadata": {},
   "source": []
  },
  {
   "cell_type": "raw",
   "id": "a9065447",
   "metadata": {},
   "source": []
  },
  {
   "cell_type": "raw",
   "id": "4ca23f35",
   "metadata": {},
   "source": []
  },
  {
   "cell_type": "raw",
   "id": "bc91c0a5",
   "metadata": {},
   "source": []
  },
  {
   "cell_type": "raw",
   "id": "88682f6b",
   "metadata": {},
   "source": []
  },
  {
   "cell_type": "raw",
   "id": "61c517ee",
   "metadata": {},
   "source": []
  },
  {
   "cell_type": "raw",
   "id": "21db3a6a",
   "metadata": {},
   "source": []
  },
  {
   "cell_type": "raw",
   "id": "dbd947a7",
   "metadata": {},
   "source": []
  },
  {
   "cell_type": "raw",
   "id": "2d27920f",
   "metadata": {},
   "source": []
  },
  {
   "cell_type": "raw",
   "id": "9663b3a0",
   "metadata": {},
   "source": []
  },
  {
   "cell_type": "raw",
   "id": "391e8266",
   "metadata": {},
   "source": []
  },
  {
   "cell_type": "raw",
   "id": "12f4d0ad",
   "metadata": {},
   "source": []
  },
  {
   "cell_type": "raw",
   "id": "fae3f8b5",
   "metadata": {},
   "source": []
  },
  {
   "cell_type": "raw",
   "id": "449723c2",
   "metadata": {},
   "source": []
  },
  {
   "cell_type": "raw",
   "id": "83adbb6a",
   "metadata": {},
   "source": []
  },
  {
   "cell_type": "raw",
   "id": "3e0df9d9",
   "metadata": {},
   "source": []
  },
  {
   "cell_type": "raw",
   "id": "937792b3",
   "metadata": {},
   "source": []
  },
  {
   "cell_type": "raw",
   "id": "277e269c",
   "metadata": {},
   "source": []
  },
  {
   "cell_type": "raw",
   "id": "c3f98f65",
   "metadata": {},
   "source": []
  },
  {
   "cell_type": "raw",
   "id": "16fed539",
   "metadata": {},
   "source": []
  },
  {
   "cell_type": "raw",
   "id": "9cdf1856",
   "metadata": {},
   "source": []
  },
  {
   "cell_type": "raw",
   "id": "503e4635",
   "metadata": {},
   "source": []
  },
  {
   "cell_type": "raw",
   "id": "4ce79562",
   "metadata": {},
   "source": []
  },
  {
   "cell_type": "raw",
   "id": "230357a9",
   "metadata": {},
   "source": []
  },
  {
   "cell_type": "raw",
   "id": "b58a0045",
   "metadata": {},
   "source": []
  },
  {
   "cell_type": "raw",
   "id": "0e8aab73",
   "metadata": {},
   "source": []
  },
  {
   "cell_type": "raw",
   "id": "42c46cc8",
   "metadata": {},
   "source": []
  },
  {
   "cell_type": "raw",
   "id": "6f482f06",
   "metadata": {},
   "source": []
  },
  {
   "cell_type": "raw",
   "id": "ab3ecda9",
   "metadata": {},
   "source": []
  },
  {
   "cell_type": "raw",
   "id": "1449850b",
   "metadata": {},
   "source": []
  },
  {
   "cell_type": "raw",
   "id": "4c02f280",
   "metadata": {},
   "source": []
  },
  {
   "cell_type": "raw",
   "id": "91c3f8a6",
   "metadata": {},
   "source": []
  },
  {
   "cell_type": "raw",
   "id": "9d75223d",
   "metadata": {},
   "source": []
  },
  {
   "cell_type": "raw",
   "id": "b98fa59f",
   "metadata": {},
   "source": []
  },
  {
   "cell_type": "raw",
   "id": "02876f68",
   "metadata": {},
   "source": []
  },
  {
   "cell_type": "raw",
   "id": "ae87f0b5",
   "metadata": {},
   "source": []
  },
  {
   "cell_type": "raw",
   "id": "824d51ab",
   "metadata": {},
   "source": []
  },
  {
   "cell_type": "raw",
   "id": "5994555b",
   "metadata": {},
   "source": []
  },
  {
   "cell_type": "raw",
   "id": "a3ac05c2",
   "metadata": {},
   "source": []
  },
  {
   "cell_type": "code",
   "execution_count": 187,
   "id": "b810318e",
   "metadata": {},
   "outputs": [
    {
     "data": {
      "text/plain": [
       "[1, 2, 4, 4, 5, 2, 43, 1, 34, 1, 2, 4, 4, 5, 2, 43, 1, 34]"
      ]
     },
     "execution_count": 187,
     "metadata": {},
     "output_type": "execute_result"
    }
   ],
   "source": [
    "mylist"
   ]
  },
  {
   "cell_type": "code",
   "execution_count": null,
   "id": "b3e3a998",
   "metadata": {},
   "outputs": [],
   "source": []
  }
 ],
 "metadata": {
  "kernelspec": {
   "display_name": "Python 3 (ipykernel)",
   "language": "python",
   "name": "python3"
  },
  "language_info": {
   "codemirror_mode": {
    "name": "ipython",
    "version": 3
   },
   "file_extension": ".py",
   "mimetype": "text/x-python",
   "name": "python",
   "nbconvert_exporter": "python",
   "pygments_lexer": "ipython3",
   "version": "3.10.9"
  }
 },
 "nbformat": 4,
 "nbformat_minor": 5
}
